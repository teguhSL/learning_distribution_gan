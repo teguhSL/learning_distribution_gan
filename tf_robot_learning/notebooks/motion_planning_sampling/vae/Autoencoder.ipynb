{
 "cells": [
  {
   "cell_type": "code",
   "execution_count": 1,
   "metadata": {},
   "outputs": [
    {
     "name": "stderr",
     "output_type": "stream",
     "text": [
      "\n",
      "Bad key \"text.kerning_factor\" on line 4 in\n",
      "/home/teguh/miniconda3/envs/tf3/lib/python3.8/site-packages/matplotlib/mpl-data/stylelib/_classic_test_patch.mplstyle.\n",
      "You probably need to get an updated matplotlibrc file from\n",
      "https://github.com/matplotlib/matplotlib/blob/v3.1.3/matplotlibrc.template\n",
      "or from the matplotlib source distribution\n"
     ]
    }
   ],
   "source": [
    "import tensorflow as tf\n",
    "import tensorflow_probability as tfp\n",
    "import numpy as np\n",
    "import matplotlib.pyplot as plt\n",
    "\n",
    "tfd = tfp.distributions\n",
    "tfb = tfp.bijectors\n",
    "tfpl = tfp.layers"
   ]
  },
  {
   "cell_type": "raw",
   "metadata": {},
   "source": [
    "K = 1\n",
    "D = 2\n",
    "mixture_of_gaussians = tfd.MixtureSameFamily(\n",
    "    mixture_distribution = tfd.Categorical(logits=tf.ones(K)) , \n",
    "    components_distribution = tfd.MultivariateNormalDiag(loc=tf.random.normal((K,D))*3,\n",
    "                                                        scale_diag=tf.math.softplus(tf.random.normal((K,D)))))\n",
    "    \n",
    "    \n",
    "\n",
    "samples = mixture_of_gaussians.sample(10000)"
   ]
  },
  {
   "cell_type": "code",
   "execution_count": 8,
   "metadata": {},
   "outputs": [],
   "source": [
    "from scipy.stats import multivariate_normal as mvn\n",
    "\n",
    "N = 50000\n",
    "x_dim = 1\n",
    "y_dim = 1\n",
    "noise_std_true = 0.5\n",
    "\n",
    "\n",
    "# Generate data\n",
    "#The dataset 1 is unimodal, the dataset 2 is multimodal\n",
    "\n",
    "dataset_nb = 1\n",
    "\n",
    "if dataset_nb == 1:\n",
    "    b_true = np.random.randn(y_dim).astype(np.float32)   \n",
    "    w_true = np.random.randn(x_dim, y_dim).astype(np.float32) \n",
    "    x = np.linspace(-10., 100., N)[None].T\n",
    "    x = np.float32(x)\n",
    "    noise = noise_std_true * np.random.randn(N,y_dim).astype(np.float32)\n",
    "    y = np.matmul((x-50)**2, w_true)/100. + b_true + noise\n",
    "    \n",
    "elif dataset_nb == 2:\n",
    "    radius = np.abs(np.random.normal(loc=0., scale=1., size=(N//2,1)))\n",
    "    theta = np.random.uniform(low=0., high=2*np.pi, size=(N//2,1))\n",
    "    x1 = radius * np.cos(theta)\n",
    "    y1 = radius * np.sin(theta)\n",
    "    \n",
    "    radius = np.abs(np.random.normal(loc=10., scale=1., size=(N//2,1)))\n",
    "    theta = np.random.uniform(low=0., high=2*np.pi, size=(N//2,1))\n",
    "    x2 = radius * np.cos(theta)\n",
    "    y2 = radius * np.sin(theta)\n",
    "    \n",
    "    x = np.vstack([x1, x2])\n",
    "    y = np.vstack([y1, y2])"
   ]
  },
  {
   "cell_type": "code",
   "execution_count": 9,
   "metadata": {},
   "outputs": [],
   "source": [
    "samples = np.hstack([x,y])"
   ]
  },
  {
   "cell_type": "code",
   "execution_count": 10,
   "metadata": {},
   "outputs": [
    {
     "data": {
      "text/plain": [
       "[<matplotlib.lines.Line2D at 0x7fbb509e0e80>]"
      ]
     },
     "execution_count": 10,
     "metadata": {},
     "output_type": "execute_result"
    },
    {
     "data": {
      "image/png": "[encoded data removed]",
      "text/plain": [
       "<Figure size 432x288 with 1 Axes>"
      ]
     },
     "metadata": {
      "needs_background": "light"
     },
     "output_type": "display_data"
    }
   ],
   "source": [
    "plt.plot(samples[:,0], samples[:,1], '*')"
   ]
  },
  {
   "cell_type": "code",
   "execution_count": 11,
   "metadata": {},
   "outputs": [],
   "source": [
    "from tensorflow.keras.models import Sequential\n",
    "from tensorflow.keras.layers import Dense"
   ]
  },
  {
   "cell_type": "code",
   "execution_count": 12,
   "metadata": {},
   "outputs": [],
   "source": [
    "from tensorflow.keras.models import Model"
   ]
  },
  {
   "cell_type": "code",
   "execution_count": 22,
   "metadata": {},
   "outputs": [],
   "source": [
    "input_dim = 2\n",
    "latent_dim = 2"
   ]
  },
  {
   "cell_type": "code",
   "execution_count": 23,
   "metadata": {},
   "outputs": [],
   "source": [
    "\n",
    "encoder = Sequential([\n",
    "    Dense(32, activation='sigmoid', input_shape=(input_dim,)),\n",
    "    Dense(16, activation='sigmoid'),\n",
    "    Dense(8, activation='sigmoid'),\n",
    "    Dense(latent_dim)\n",
    "])"
   ]
  },
  {
   "cell_type": "code",
   "execution_count": 24,
   "metadata": {},
   "outputs": [],
   "source": [
    "decoder = Sequential([\n",
    "    Dense(8, activation='sigmoid', input_shape=(latent_dim,)),\n",
    "    Dense(16, activation='sigmoid'),\n",
    "    Dense(32, activation='sigmoid'),\n",
    "    Dense(input_dim)\n",
    "])"
   ]
  },
  {
   "cell_type": "code",
   "execution_count": 25,
   "metadata": {},
   "outputs": [],
   "source": [
    "ae = Model(inputs=encoder.input, outputs=decoder(encoder.output))"
   ]
  },
  {
   "cell_type": "code",
   "execution_count": 26,
   "metadata": {},
   "outputs": [],
   "source": [
    "def loss_function(y_true, y_pred):\n",
    "    return -tf.reduce_mean(y_pred.log_prob(y_true))"
   ]
  },
  {
   "cell_type": "code",
   "execution_count": 27,
   "metadata": {},
   "outputs": [],
   "source": [
    "ae.compile(loss='mean_squared_error')"
   ]
  },
  {
   "cell_type": "code",
   "execution_count": 28,
   "metadata": {
    "scrolled": true
   },
   "outputs": [
    {
     "name": "stdout",
     "output_type": "stream",
     "text": [
      "Epoch 1/50\n",
      "1563/1563 [==============================] - 1s 549us/step - loss: 1076.8306\n",
      "Epoch 2/50\n",
      "1563/1563 [==============================] - 1s 560us/step - loss: 342.9089\n",
      "Epoch 3/50\n",
      "1563/1563 [==============================] - 1s 557us/step - loss: 66.4419\n",
      "Epoch 4/50\n",
      "1563/1563 [==============================] - 1s 567us/step - loss: 45.0459\n",
      "Epoch 5/50\n",
      "1563/1563 [==============================] - 1s 569us/step - loss: 33.1760\n",
      "Epoch 6/50\n",
      "1563/1563 [==============================] - 1s 561us/step - loss: 24.0955\n",
      "Epoch 7/50\n",
      "1563/1563 [==============================] - 1s 562us/step - loss: 16.5910\n",
      "Epoch 8/50\n",
      "1563/1563 [==============================] - 1s 585us/step - loss: 11.0210\n",
      "Epoch 9/50\n",
      "1563/1563 [==============================] - 1s 560us/step - loss: 7.4320\n",
      "Epoch 10/50\n",
      "1563/1563 [==============================] - 1s 575us/step - loss: 5.2761\n",
      "Epoch 11/50\n",
      "1563/1563 [==============================] - 1s 550us/step - loss: 4.0334\n",
      "Epoch 12/50\n",
      "1563/1563 [==============================] - 1s 566us/step - loss: 3.2935\n",
      "Epoch 13/50\n",
      "1563/1563 [==============================] - 1s 593us/step - loss: 2.7137\n",
      "Epoch 14/50\n",
      "1563/1563 [==============================] - 1s 554us/step - loss: 2.3173\n",
      "Epoch 15/50\n",
      "1563/1563 [==============================] - 1s 586us/step - loss: 2.0899\n",
      "Epoch 16/50\n",
      "1563/1563 [==============================] - 1s 590us/step - loss: 1.8400\n",
      "Epoch 17/50\n",
      "1563/1563 [==============================] - 1s 558us/step - loss: 1.6451\n",
      "Epoch 18/50\n",
      "1563/1563 [==============================] - 1s 566us/step - loss: 1.5388\n",
      "Epoch 19/50\n",
      "1563/1563 [==============================] - 1s 613us/step - loss: 1.4174\n",
      "Epoch 20/50\n",
      "1563/1563 [==============================] - 1s 596us/step - loss: 1.3153\n",
      "Epoch 21/50\n",
      "1563/1563 [==============================] - 1s 588us/step - loss: 1.2214\n",
      "Epoch 22/50\n",
      "1563/1563 [==============================] - 1s 610us/step - loss: 1.1602\n",
      "Epoch 23/50\n",
      "1563/1563 [==============================] - 1s 618us/step - loss: 1.0908\n",
      "Epoch 24/50\n",
      "1563/1563 [==============================] - 1s 620us/step - loss: 1.0579\n",
      "Epoch 25/50\n",
      "1563/1563 [==============================] - 1s 636us/step - loss: 1.0025\n",
      "Epoch 26/50\n",
      "1563/1563 [==============================] - 1s 589us/step - loss: 0.9596\n",
      "Epoch 27/50\n",
      "1563/1563 [==============================] - 1s 564us/step - loss: 0.9430\n",
      "Epoch 28/50\n",
      "1563/1563 [==============================] - 1s 638us/step - loss: 0.9090\n",
      "Epoch 29/50\n",
      "1563/1563 [==============================] - 1s 593us/step - loss: 0.8642\n",
      "Epoch 30/50\n",
      "1563/1563 [==============================] - 1s 603us/step - loss: 0.8250\n",
      "Epoch 31/50\n",
      "1563/1563 [==============================] - 1s 569us/step - loss: 0.8151\n",
      "Epoch 32/50\n",
      "1563/1563 [==============================] - 1s 650us/step - loss: 0.7903\n",
      "Epoch 33/50\n",
      "1563/1563 [==============================] - 1s 666us/step - loss: 0.7646\n",
      "Epoch 34/50\n",
      "1563/1563 [==============================] - 1s 605us/step - loss: 0.7670\n",
      "Epoch 35/50\n",
      "1563/1563 [==============================] - 1s 654us/step - loss: 0.7353\n",
      "Epoch 36/50\n",
      "1563/1563 [==============================] - 1s 668us/step - loss: 0.7210\n",
      "Epoch 37/50\n",
      "1563/1563 [==============================] - 1s 605us/step - loss: 0.7002\n",
      "Epoch 38/50\n",
      "1563/1563 [==============================] - 1s 570us/step - loss: 0.6912\n",
      "Epoch 39/50\n",
      "1563/1563 [==============================] - 1s 567us/step - loss: 0.6734\n",
      "Epoch 40/50\n",
      "1563/1563 [==============================] - 1s 567us/step - loss: 0.6605\n",
      "Epoch 41/50\n",
      "1563/1563 [==============================] - 1s 604us/step - loss: 0.6481\n",
      "Epoch 42/50\n",
      "1563/1563 [==============================] - 1s 587us/step - loss: 0.6199\n",
      "Epoch 43/50\n",
      "1563/1563 [==============================] - 1s 558us/step - loss: 0.6081\n",
      "Epoch 44/50\n",
      "1563/1563 [==============================] - 1s 584us/step - loss: 0.6125\n",
      "Epoch 45/50\n",
      "1563/1563 [==============================] - 1s 564us/step - loss: 0.5999\n",
      "Epoch 46/50\n",
      "1563/1563 [==============================] - 1s 564us/step - loss: 0.6016\n",
      "Epoch 47/50\n",
      "1563/1563 [==============================] - 1s 639us/step - loss: 0.5803\n",
      "Epoch 48/50\n",
      "1563/1563 [==============================] - 1s 607us/step - loss: 0.5696\n",
      "Epoch 49/50\n",
      "1563/1563 [==============================] - 1s 590us/step - loss: 0.5610\n",
      "Epoch 50/50\n",
      "1563/1563 [==============================] - 1s 576us/step - loss: 0.5580\n"
     ]
    },
    {
     "data": {
      "text/plain": [
       "<tensorflow.python.keras.callbacks.History at 0x7fbaf87ad3a0>"
      ]
     },
     "execution_count": 28,
     "metadata": {},
     "output_type": "execute_result"
    }
   ],
   "source": [
    "ae.fit(samples, samples, epochs=50)"
   ]
  },
  {
   "cell_type": "code",
   "execution_count": 31,
   "metadata": {},
   "outputs": [],
   "source": [
    "samples_reconstructed = ae(samples)"
   ]
  },
  {
   "cell_type": "code",
   "execution_count": 34,
   "metadata": {},
   "outputs": [],
   "source": [
    "samples_encoded = encoder(samples)\n",
    "\n",
    "plt.plot(samples_encoded[:,0], samples_encoded[:,1])"
   ]
  },
  {
   "cell_type": "code",
   "execution_count": 32,
   "metadata": {},
   "outputs": [
    {
     "data": {
      "text/plain": [
       "[<matplotlib.lines.Line2D at 0x7fbb402e8f10>]"
      ]
     },
     "execution_count": 32,
     "metadata": {},
     "output_type": "execute_result"
    },
    {
     "data": {
      "image/png": "[encoded data removed]",
      "text/plain": [
       "<Figure size 432x288 with 1 Axes>"
      ]
     },
     "metadata": {
      "needs_background": "light"
     },
     "output_type": "display_data"
    }
   ],
   "source": [
    "plt.plot(samples_reconstructed[:,0], samples_reconstructed[:,1], 'or', alpha=0.01)\n",
    "\n",
    "plt.plot(samples[:,0], samples[:,1], 'xb', alpha=0.01)"
   ]
  }
 ],
 "metadata": {
  "kernelspec": {
   "display_name": "Python 3",
   "language": "python",
   "name": "python3"
  },
  "language_info": {
   "codemirror_mode": {
    "name": "ipython",
    "version": 3
   },
   "file_extension": ".py",
   "mimetype": "text/x-python",
   "name": "python",
   "nbconvert_exporter": "python",
   "pygments_lexer": "ipython3",
   "version": "3.8.3"
  }
 },
 "nbformat": 4,
 "nbformat_minor": 4
}

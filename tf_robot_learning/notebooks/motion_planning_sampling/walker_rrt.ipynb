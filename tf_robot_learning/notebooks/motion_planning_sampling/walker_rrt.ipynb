{
 "cells": [
  {
   "cell_type": "raw",
   "metadata": {},
   "source": [
    "Discussion with Zhipeng\n",
    "- urdf model\n",
    "- the env setup\n",
    "- the gripper configuration\n",
    "- \n",
    "150kg\n",
    "\n",
    "66mm, 116\n",
    "52.5mm, 136\n",
    "\n",
    "just the upper body first\n",
    "get default configuration for the leg"
   ]
  },
  {
   "cell_type": "markdown",
   "metadata": {},
   "source": [
    "# Walker Example"
   ]
  },
  {
   "cell_type": "code",
   "execution_count": 1,
   "metadata": {},
   "outputs": [],
   "source": [
    "import sys\n",
    "sys.path.append('lib')\n",
    "\n",
    "import numpy as np\n",
    "import matplotlib.pyplot as plt\n",
    "import os, time\n",
    "\n",
    "from IPython.core import display\n",
    "\n",
    "import pybullet as p\n",
    "import pybullet_data\n",
    "from utils import *\n",
    "from scipy.optimize import fmin_bfgs\n",
    "from costs_pseudo import *\n",
    "from robot import *\n",
    "from functools import partial\n",
    "\n",
    "# import tensorflow as tf\n",
    "# import tensorflow.compat.v1 as tf1\n",
    "# import tf_robot_learning as rl\n",
    "# import tf_robot_learning.distributions as ds\n",
    "# from tf_robot_learning import kinematic as tk\n",
    "\n",
    "\n",
    "DATA_PATH = '/home/teguh/git/publications/learning_distribution_gan/tf_robot_learning/data'\n",
    "\n",
    "%load_ext autoreload\n",
    "%autoreload 2\n",
    "%matplotlib inline"
   ]
  },
  {
   "cell_type": "markdown",
   "metadata": {},
   "source": [
    "### Setup Pybullet"
   ]
  },
  {
   "cell_type": "code",
   "execution_count": 2,
   "metadata": {},
   "outputs": [],
   "source": [
    "physics_client_id = p.connect(p.GUI)\n",
    "\n",
    "p.setPhysicsEngineParameter(enableFileCaching=0)\n",
    "p.setAdditionalSearchPath(pybullet_data.getDataPath())\n",
    "p.configureDebugVisualizer(p.COV_ENABLE_GUI,0)"
   ]
  },
  {
   "cell_type": "code",
   "execution_count": 3,
   "metadata": {},
   "outputs": [],
   "source": [
    "p.resetSimulation()"
   ]
  },
  {
   "cell_type": "markdown",
   "metadata": {},
   "source": [
    "#### Load in pybullet"
   ]
  },
  {
   "cell_type": "code",
   "execution_count": 4,
   "metadata": {},
   "outputs": [],
   "source": [
    "#load robot\n",
    "robot_urdf = DATA_PATH + '/urdf/walker_description/urdf/walker.urdf';\n",
    "robot_id = p.loadURDF(fileName=robot_urdf, flags=p.URDF_USE_INERTIA_FROM_FILE)\n",
    "dof = p.getNumJoints(robot_id)"
   ]
  },
  {
   "cell_type": "code",
   "execution_count": 5,
   "metadata": {},
   "outputs": [],
   "source": [
    "#load plane\n",
    "plane_id = p.loadURDF('plane.urdf')\n",
    "p.resetBasePositionAndOrientation(plane_id, (0,0,0), np.array([0,0,0,1]))"
   ]
  },
  {
   "cell_type": "code",
   "execution_count": 6,
   "metadata": {},
   "outputs": [],
   "source": [
    "p.resetBasePositionAndOrientation(robot_id, (0,0,1.14), np.array([0,0,0,1]))"
   ]
  },
  {
   "cell_type": "markdown",
   "metadata": {},
   "source": [
    "#### Load obstacles"
   ]
  },
  {
   "cell_type": "raw",
   "metadata": {},
   "source": [
    "p.resetSimulation()"
   ]
  },
  {
   "cell_type": "code",
   "execution_count": 7,
   "metadata": {},
   "outputs": [],
   "source": [
    "shelf_urdf = '/home/teguh/git/publications/learning_distribution_gan/tf_robot_learning/data/urdf/shelf_new.urdf'\n",
    "\n",
    "shelf_id = p.loadURDF(shelf_urdf)"
   ]
  },
  {
   "cell_type": "code",
   "execution_count": 8,
   "metadata": {},
   "outputs": [],
   "source": [
    "p.resetBasePositionAndOrientation(shelf_id,(.7,-0.75,0), (0,0,np.sin(np.pi/2), np.cos(np.pi/2)) )"
   ]
  },
  {
   "cell_type": "code",
   "execution_count": 9,
   "metadata": {},
   "outputs": [],
   "source": [
    "p.resetJointState(shelf_id, 7, 0.4)"
   ]
  },
  {
   "cell_type": "code",
   "execution_count": 10,
   "metadata": {},
   "outputs": [],
   "source": [
    "joint_angles = np.arange(0, np.pi/2, np.pi/200)*(-1)\n",
    "joint_angles = np.concatenate([joint_angles, np.arange(-np.pi/2, 0, np.pi/200)])"
   ]
  },
  {
   "cell_type": "code",
   "execution_count": 11,
   "metadata": {},
   "outputs": [],
   "source": [
    "prism_dists = np.arange(0, 0.6, 0.006)\n",
    "prism_dists = np.concatenate([prism_dists, prism_dists[::-1]])"
   ]
  },
  {
   "cell_type": "markdown",
   "metadata": {},
   "source": [
    "#### Simulating Table"
   ]
  },
  {
   "cell_type": "raw",
   "metadata": {},
   "source": [
    "for q in joint_angles:\n",
    "    p.resetJointState(shelf_id, 2, q)\n",
    "    time.sleep(0.01)\n",
    "\n",
    "for q in joint_angles:\n",
    "    p.resetJointState(shelf_id, 3, q)\n",
    "    time.sleep(0.01)\n",
    "    \n",
    "for q in prism_dists:\n",
    "    p.resetJointState(shelf_id, 4, q)\n",
    "    time.sleep(0.01)\n",
    "for q in prism_dists:\n",
    "    p.resetJointState(shelf_id, 5, q)\n",
    "    time.sleep(0.01)\n",
    "for q in prism_dists:\n",
    "    p.resetJointState(shelf_id, 6, q)\n",
    "    time.sleep(0.01)\n",
    "for q in prism_dists:\n",
    "    p.resetJointState(shelf_id, 7, q)\n",
    "    time.sleep(0.01)\n",
    "    \n",
    "    \n",
    "for q in joint_angles:\n",
    "    p.resetJointState(shelf_id, 0, q)\n",
    "    time.sleep(0.01)\n",
    "    \n",
    "for q in joint_angles:\n",
    "    p.resetJointState(shelf_id, 1, -q)\n",
    "    time.sleep(0.01)"
   ]
  },
  {
   "cell_type": "markdown",
   "metadata": {},
   "source": [
    "#### Define frame indices"
   ]
  },
  {
   "cell_type": "code",
   "execution_count": 12,
   "metadata": {},
   "outputs": [],
   "source": [
    "pb_frame_names = [p.getJointInfo(robot_id,i)[1].decode('UTF-8') for i in range(dof)]\n",
    "# print(pb_frame_names)\n",
    "\n",
    "pb_lh_frame_id = pb_frame_names.index('left_tcp_joint')\n",
    "pb_rh_frame_id = pb_frame_names.index('right_tcp_joint')\n",
    "pb_lf_frame_id = pb_frame_names.index('left_sole')\n",
    "pb_rf_frame_id = pb_frame_names.index('right_sole')"
   ]
  },
  {
   "cell_type": "raw",
   "metadata": {},
   "source": [
    "pb_frame_names"
   ]
  },
  {
   "cell_type": "markdown",
   "metadata": {},
   "source": [
    "#### Load from pinocchio"
   ]
  },
  {
   "cell_type": "code",
   "execution_count": 13,
   "metadata": {},
   "outputs": [],
   "source": [
    "rmodel = pin.buildModelFromUrdf(robot_urdf , pin.JointModelFreeFlyer())\n",
    "# rmodel = pin.buildModelFromUrdf(robot_urdf)\n",
    "rdata = rmodel.createData()\n",
    "rdata = rmodel.createData()\n",
    "\n",
    "robot_joint_limits = np.vstack([rmodel.lowerPositionLimit, rmodel.upperPositionLimit])\n",
    "for i in range(robot_joint_limits.shape[0]):\n",
    "    for j in range(robot_joint_limits.shape[1]):\n",
    "        if robot_joint_limits[i,j] < -1e10: robot_joint_limits[i,j] = -1e10\n",
    "        if robot_joint_limits[i,j] > 1e10: robot_joint_limits[i,j] = 1e10\n",
    "\n",
    "pin_frame_names = [f.name for f in rmodel.frames]\n",
    "lh_frame_id = rmodel.getFrameId('left_tcp_joint')\n",
    "rh_frame_id = rmodel.getFrameId('right_tcp_joint')\n",
    "lf_frame_id = rmodel.getFrameId('left_sole')\n",
    "rf_frame_id = rmodel.getFrameId('right_sole')\n",
    "\n",
    "pin_joint_names = []\n",
    "for i,f in enumerate(rmodel.names): \n",
    "    pin_joint_names.append(f)\n",
    "\n",
    "pb_joint_indices = []\n",
    "pb_joint_indices_names = []\n",
    "for pin_name in pin_joint_names[2:]:\n",
    "    pb_joint_indices.append(pb_frame_names.index(pin_name))\n",
    "    pb_joint_indices_names.append(pin_name)\n",
    "\n",
    "pb_joint_indices = np.array(pb_joint_indices)"
   ]
  },
  {
   "cell_type": "code",
   "execution_count": 14,
   "metadata": {},
   "outputs": [],
   "source": [
    "q0_base = np.array([0,0,1.1422, 0,0,0,1])\n",
    "q0Complete = np.concatenate([q0_base, np.zeros(len(pb_joint_indices))])\n",
    "\n",
    "#### Not touching the ground\n",
    "\n",
    "q0Complete[2] = 1.086\n",
    "\n",
    "q0Complete[7+2: 7+8] = (np.array([0,0,-0.49,0.89,-0.4, 0])) #left leg\n",
    "q0Complete[7+25: 7+31] = (np.array([0,0,-0.49,0.89,-0.4, 0])) \n",
    "\n",
    "#### Touching the ground\n",
    "\n",
    "# q0Complete[7+2: 7+8] = (np.array([0,0,-0.492,0.893,-0.402, 0])) #left leg\n",
    "# q0Complete[7+25: 7+31] = (np.array([0,0,-0.493,0.893,-0.402, 0])) "
   ]
  },
  {
   "cell_type": "code",
   "execution_count": 15,
   "metadata": {},
   "outputs": [],
   "source": [
    "#set default visualization function\n",
    "set_q_std = partial(set_q,robot_id, pb_joint_indices, set_base=True)\n",
    "set_q_std(q0Complete)\n",
    "vis_traj_std = partial(vis_traj, vis_func = set_q_std)"
   ]
  },
  {
   "cell_type": "raw",
   "metadata": {},
   "source": [
    "for i,name in enumerate(pb_joint_indices_names):\n",
    "    print(i,name)"
   ]
  },
  {
   "cell_type": "markdown",
   "metadata": {},
   "source": [
    "#### Define target poses"
   ]
  },
  {
   "cell_type": "code",
   "execution_count": 16,
   "metadata": {},
   "outputs": [],
   "source": [
    "#left foot\n",
    "pos_lf, ori_lf = computePose(rmodel,rdata,lf_frame_id,q0Complete)\n",
    "rpy_lf = mat2euler(ori_lf)\n",
    "pose_lf_ref = np.concatenate([pos_lf, rpy_lf])\n",
    "#right foot\n",
    "pos_rf, ori_rf = computePose(rmodel,rdata,rf_frame_id,q0Complete)\n",
    "rpy_rf = mat2euler(ori_rf)\n",
    "pose_rf_ref = np.concatenate([pos_rf, rpy_rf])\n",
    "#left hand\n",
    "pos_lh, ori_lh = computePose(rmodel,rdata,lh_frame_id,q0Complete)\n",
    "pose_lh_ref = np.concatenate([np.array([0.3,0.2, 0.4]), np.array([0,-np.pi/2,0.])])\n",
    "#right hand\n",
    "pos_rh, ori_rh = computePose(rmodel,rdata,rh_frame_id,q0Complete)\n",
    "rpy_rh = mat2euler(ori_rh)\n",
    "pose_rh_ref = np.concatenate([pos_rh, rpy_rh])"
   ]
  },
  {
   "cell_type": "markdown",
   "metadata": {},
   "source": [
    "#### Visualize in Pybullet"
   ]
  },
  {
   "cell_type": "raw",
   "metadata": {},
   "source": [
    "_,_,lf_box_id = create_primitives(shapeType=p.GEOM_BOX, halfExtents=[0.15, 0.08, 0.03])\n",
    "_,_,rf_box_id = create_primitives(shapeType=p.GEOM_BOX, halfExtents=[ 0.15, 0.08, 0.03])\n",
    "_,_,rh_box_id = create_primitives(radius=0.05)"
   ]
  },
  {
   "cell_type": "raw",
   "metadata": {},
   "source": [
    "p.resetBasePositionAndOrientation(lf_box_id, pos_rf, (0,0,0,1))\n",
    "p.resetBasePositionAndOrientation(rf_box_id, pos_lf, (0,0,0,1))\n",
    "p.resetBasePositionAndOrientation(rh_box_id, pos_rh, (0,0,0,1))"
   ]
  },
  {
   "cell_type": "raw",
   "metadata": {},
   "source": [
    "#### Size:\n",
    "Height: 1.5\n",
    "Root std: 1.14\n",
    "COM: 0.644 "
   ]
  },
  {
   "cell_type": "markdown",
   "metadata": {},
   "source": [
    "### Define projector & IK solver"
   ]
  },
  {
   "cell_type": "markdown",
   "metadata": {},
   "source": [
    "#### Define target poses"
   ]
  },
  {
   "cell_type": "code",
   "execution_count": 17,
   "metadata": {},
   "outputs": [],
   "source": [
    "#left foot\n",
    "w_lf = mat2w(ori_lf)\n",
    "pose_lf_ref_new = pin.SE3(ori_lf, pos_lf)\n",
    "#right foot\n",
    "w_rf = mat2w(ori_rf)\n",
    "pose_rf_ref_new = pin.SE3(ori_rf, pos_rf)\n",
    "#right hand\n",
    "w_rh = mat2w(ori_rh)\n",
    "pose_rh_ref_new = pos_rh\n",
    "# pose_rh_ref_new = pin.SE3(ori_rh, pos_rh)"
   ]
  },
  {
   "cell_type": "markdown",
   "metadata": {},
   "source": [
    "#### Define projector & ik solver"
   ]
  },
  {
   "cell_type": "raw",
   "metadata": {},
   "source": [
    "robot_joint_limits[:, 7+8:7+15] *= 0 #left limb stationary"
   ]
  },
  {
   "cell_type": "code",
   "execution_count": 18,
   "metadata": {},
   "outputs": [],
   "source": [
    "robot_joint_limits[:, 7+0:7+2] *= 0 #head stationary\n",
    "robot_joint_limits[:, 7+15:7+25] *= 0 #left hand stationary\n",
    "robot_joint_limits[:, -10:] *= 0 #left hand stationary"
   ]
  },
  {
   "cell_type": "code",
   "execution_count": 41,
   "metadata": {},
   "outputs": [],
   "source": [
    "lf_cost_new = CostFrameSE3FloatingBaseNew(rmodel, rdata, pose_lf_ref_new,lf_frame_id, weight=np.array([1.,1.,1.,1.,1.,1.]))\n",
    "rf_cost_new = CostFrameSE3FloatingBaseNew(rmodel, rdata, pose_rf_ref_new,rf_frame_id, weight=np.array([1.,1.,1.,1.,1.,1.]))\n",
    "rh_cost_new = CostFrameTranslationFloatingBaseNew(rmodel, rdata, pose_rh_ref_new,rh_frame_id, weight=np.array([1.,1.,1.]))\n",
    "# rh_cost_new = CostFrameSE3FloatingBaseNew(rmodel, rdata, pose_rh_ref_new,rh_frame_id, weight=np.array([1.,1.,1.,.1,0.1,.1]))\n",
    "# com_bounds = np.array([[-0.1,-0.1,-1.5],[0.1, 0.1, 0.9]])\n",
    "# com_bounds = np.array([[-0.05,-0.05,0.4],[0.05, 0.05, 0.7]]) #prev\n",
    "com_bounds = np.array([[-0.02,-0.05,0.5],[0.02, 0.05, 0.6]]) #new\n",
    "\n",
    "# com_bounds = np.array([[-0.0,-0.05,0.4],[0.1, 0.05, 0.7]])\n",
    "\n",
    "cost_com_bounds_new = CostCOMBoundsNew(rmodel, rdata, com_bounds, 1e-4)\n",
    "bound_cost_new = CostBoundFloatingBaseNew(robot_joint_limits, 1e-4)\n",
    "posture_weights = np.ones(len(pb_joint_indices)+6) \n",
    "# posture_weights[3:6] *= 10\n",
    "posture_cost_new = CostPostureNew(rmodel, rdata, q0Complete, weights = posture_weights)"
   ]
  },
  {
   "cell_type": "code",
   "execution_count": 42,
   "metadata": {},
   "outputs": [],
   "source": [
    "#cost function for projection\n",
    "cost_sum_new = CostSumNew(rmodel, rdata)\n",
    "cost_sum_new.addCost(lf_cost_new, 20., 'lf_pose', 1e-4)\n",
    "cost_sum_new.addCost(rf_cost_new, 20.,'rf_pose', 1e-4)\n",
    "cost_sum_new.addCost(cost_com_bounds_new, 100., 'com_limit', 1e-3)\n",
    "cost_sum_new.addCost(bound_cost_new, 20., 'joint_limit', 1e-3)\n",
    "\n",
    "#secondary task: posture regularization\n",
    "cost_sum_new2 = CostSumNew(rmodel, rdata)\n",
    "cost_sum_new2.addCost(posture_cost_new, 1. , 'posture', 1e3)\n",
    "\n",
    "\n",
    "robot_projector = TalosCostProjectorNew(cost_sum_new, rmodel, rdata, cost2 = cost_sum_new2, bounds = robot_joint_limits)"
   ]
  },
  {
   "cell_type": "code",
   "execution_count": 43,
   "metadata": {},
   "outputs": [],
   "source": [
    "#cost function for IK\n",
    "cost_sum_new_ik = CostSumNew(rmodel, rdata)\n",
    "cost_sum_new_ik.addCost(lf_cost_new, 20., 'lf_pose', 1e-4)\n",
    "cost_sum_new_ik.addCost(rf_cost_new, 20.,'rf_pose', 1e-4)\n",
    "cost_sum_new_ik.addCost(cost_com_bounds_new, 20., 'com_limit', 1e-3)\n",
    "cost_sum_new_ik.addCost(bound_cost_new, 20., 'joint_limit', 1e-3)\n",
    "cost_sum_new_ik.addCost(rh_cost_new, 20.,'rh_pose', 1e-1)\n",
    "\n",
    "\n",
    "robot_ik_solver = TalosCostProjectorNew(cost_sum_new_ik, rmodel, rdata,cost2 = cost_sum_new2,  bounds = robot_joint_limits)"
   ]
  },
  {
   "cell_type": "markdown",
   "metadata": {},
   "source": [
    "#### Define the sampler"
   ]
  },
  {
   "cell_type": "code",
   "execution_count": 44,
   "metadata": {},
   "outputs": [],
   "source": [
    "#define standard sampler\n",
    "base_bound = com_bounds.copy()\n",
    "base_bound[:,-1] += 0.5\n",
    "base_sampler = sampler(base_bound.copy())\n",
    "joint_sampler = sampler(robot_joint_limits[:,7:])\n",
    "rob_sampler = talos_sampler(base_sampler, np.array([0,0,0,1]), joint_sampler, q0Complete)"
   ]
  },
  {
   "cell_type": "raw",
   "metadata": {},
   "source": [
    "#define standard sampler\n",
    "rob_sampler = sampler(robot_joint_limits)"
   ]
  },
  {
   "cell_type": "markdown",
   "metadata": {},
   "source": [
    "#### Try sampler"
   ]
  },
  {
   "cell_type": "code",
   "execution_count": 31,
   "metadata": {},
   "outputs": [
    {
     "name": "stdout",
     "output_type": "stream",
     "text": [
      "[-1.47955438  1.43474468 -0.21811445 -0.07291837  0.          0.\n",
      "  0.        ]\n"
     ]
    }
   ],
   "source": [
    "q = rob_sampler.sample()[0]\n",
    "set_q_std(q)\n",
    "# print(q[:7])\n",
    "# print(q[2:9])\n",
    "# print(q[25:34])\n",
    "print(q[34+7:41+7])"
   ]
  },
  {
   "cell_type": "raw",
   "metadata": {},
   "source": [
    "p.resetDebugVisualizerCamera(cameraDistance=1.8, cameraYaw=90, cameraPitch=-10, cameraTargetPosition=[0.4,0,1])"
   ]
  },
  {
   "cell_type": "markdown",
   "metadata": {},
   "source": [
    "#### Try the projector"
   ]
  },
  {
   "cell_type": "raw",
   "metadata": {},
   "source": [
    "# %%timeit -n 5 -r 5 \n",
    "q = rob_sampler.sample().flatten()\n",
    "res = robot_projector.project(q)\n",
    "set_q_std(q)\n",
    "input()\n",
    "set_q_std(res['q'])\n",
    "print(res['q'][33])\n",
    "print(q[33])"
   ]
  },
  {
   "cell_type": "markdown",
   "metadata": {},
   "source": [
    "#### Generate data"
   ]
  },
  {
   "cell_type": "raw",
   "metadata": {},
   "source": [
    "qs = []\n",
    "for i in range(20000):\n",
    "    if i%100 == 0:\n",
    "        print(i)\n",
    "    q = rob_sampler.sample().flatten()\n",
    "    res = robot_projector.project(q)\n",
    "    if res['stat']:\n",
    "        qs += [q]\n",
    "qs = np.array(qs)\n",
    "\n",
    "np.save('data/data_two_feet_walker', qs)\n",
    "\n",
    "qs = np.load('data/data_two_feet_walker.npy')"
   ]
  },
  {
   "cell_type": "raw",
   "metadata": {},
   "source": [
    "for i in range(10):\n",
    "    N = 5\n",
    "    q = rob_sampler.sample().flatten()\n",
    "    set_q_std(q)\n",
    "    time.sleep(1)\n",
    "    res = robot_projector.project(q)\n",
    "\n",
    "    # set_q_std(res['q'])\n",
    "    vis_traj_std(res['qs'][:10])\n",
    "    print(res['feval'])\n",
    "    time.sleep(.8)\n"
   ]
  },
  {
   "cell_type": "raw",
   "metadata": {},
   "source": [
    "class GANSampler():\n",
    "    def __init__(self, target_sampler):\n",
    "        self.target_sampler = target_sampler\n",
    "        self.name = 'GAN'\n",
    "    \n",
    "    def sample(self,N = 1, _poses = None, var = 1., idx_input = None):\n",
    "        if _poses is None:\n",
    "            _poses = self.target_sampler.sample(N)\n",
    "        self.poses = _poses\n",
    "        _foot_poses = np.tile(np.concatenate([pose_rf_ref[:3], pose_lf_ref[:3]]), (N,1))\n",
    "        _targets = np.hstack([_poses, _foot_poses])\n",
    "        feed_dict={batch_size: N*N_net, batch_target: _targets, eps_var:var}\n",
    "        feed_dict[batch_foot_ori] = _batch_foot_ori\n",
    "\n",
    "        _samples_q = sess.run([samples_q],feed_dict)\n",
    "        _samples_q = _samples_q[0]\n",
    "        qnew = []\n",
    "        for i in range(N):\n",
    "            #samples from N_net networks\n",
    "            if idx_input is None:\n",
    "                idx = np.random.randint(N_net)\n",
    "            else:\n",
    "                idx = idx_input\n",
    "            q = _samples_q[idx*N + i]\n",
    "            qnew += [conv_tf2pb_config(q[None,:])[0]]\n",
    "        return np.array(qnew)"
   ]
  },
  {
   "cell_type": "raw",
   "metadata": {},
   "source": [
    "#define GAN sampler\n",
    "# target_bounds = np.array([[-0.4, -.4, 0.5], [0.6, .4, 1.2]])\n",
    "target_bounds = np.array([[-0.6, -.6, 0.4], [0.6, .6, 1.2]])\n",
    "target_sampler = sampler( target_bounds)\n",
    "gan_sampler = GANSampler(target_sampler)"
   ]
  },
  {
   "cell_type": "raw",
   "metadata": {},
   "source": [
    "p.resetBasePositionAndOrientation(rh_box_id, [-0.4, -.4, 0.5], (0,0,0,1))\n",
    "\n",
    "p.resetBasePositionAndOrientation(rh_box_id, [0.6, .4, 1.2], (0,0,0,1))"
   ]
  },
  {
   "cell_type": "markdown",
   "metadata": {},
   "source": [
    "### Try the IK solver"
   ]
  },
  {
   "cell_type": "raw",
   "metadata": {},
   "source": [
    "_,_,target_id = create_primitives(p.GEOM_BOX, halfExtents=[0.05, 0.05, 0.05], rgbaColor=[1,0,0,1])"
   ]
  },
  {
   "cell_type": "code",
   "execution_count": 45,
   "metadata": {},
   "outputs": [],
   "source": [
    "# ik_target_bounds = np.array([[0.5, -.3, 0.6], [0.5, 0., 1.]])\n",
    "# ik_target_bounds =  np.array([[0.2, -0.6, .7], [0.21, -.7, .7]])\n",
    "ik_target_bounds = np.array([[0.3, -0.25, 1.1], [0.7, -0., 1.1]])\n",
    "ik_target_sampler = sampler( ik_target_bounds)\n",
    "\n",
    "#targets = data_target[:2000,:3]\n",
    "targets = ik_target_sampler.sample(2000)\n",
    "p.resetBasePositionAndOrientation(target_id, targets[i], (0,0,0,1))"
   ]
  },
  {
   "cell_type": "code",
   "execution_count": 60,
   "metadata": {},
   "outputs": [],
   "source": [
    "set_q_std(q0Complete)"
   ]
  },
  {
   "cell_type": "code",
   "execution_count": 59,
   "metadata": {
    "scrolled": true,
    "tags": []
   },
   "outputs": [
    {
     "name": "stdout",
     "output_type": "stream",
     "text": [
      "0\n",
      "True\n"
     ]
    }
   ],
   "source": [
    "rh_cost_new.desired_pose = targets[i]\n",
    "# robot_ik_solver.cost.costs['rh_pose'].cost.desired_pose.translation = targets[i]\n",
    "# rh_cost_new.desired_pose.translation = targets[i]\n",
    "\n",
    "q = rob_sampler.sample().flatten()\n",
    "set_q_std(q)\n",
    "time.sleep(0.8)\n",
    "res = robot_ik_solver.project(q)\n",
    "set_q_std(res['q'])\n",
    "print(res['feval'])\n",
    "print(res['stat'])"
   ]
  },
  {
   "cell_type": "raw",
   "metadata": {
    "tags": []
   },
   "source": [
    "samples = gan_sampler.sample(N=2000, _poses=targets, var = 0.01)\n",
    "\n",
    "methods = [rob_sampler, gan_sampler]\n",
    "method_names = ['Random', 'GAN']\n",
    "N = 100\n",
    "data = dict()\n",
    "for m in range(len(methods)):\n",
    "    comp_times = []\n",
    "    success = []\n",
    "    fevals = []\n",
    "    for i in range(N):\n",
    "        idx = i\n",
    "        if method_names[m] == 'GAN':\n",
    "            q = samples[idx]\n",
    "        else:\n",
    "            q = rob_sampler.sample().flatten()\n",
    "        tic = time.time()\n",
    "        robot_ik_solver.cost.costs['rh_pose'].cost.desired_pose[:3] = targets[i]\n",
    "        res = robot_ik_solver.project(q)\n",
    "        toc = time.time()\n",
    "        comp_times += [toc-tic]\n",
    "        success += [res['stat']]\n",
    "        fevals += [res['nfev']]\n",
    "        data[method_names[m]] = [comp_times, success, fevals]\n",
    "clear_output()\n",
    "\n",
    "for m in range(len(methods[:2])):\n",
    "    print('& ' + method_names[m], end=' ')\n",
    "    comp_times, success, fevals = data[method_names[m]]\n",
    "    comp_times = np.array(comp_times)\n",
    "    fevals = np.array(fevals)\n",
    "\n",
    "    print('& {0:.1f} &  {1:.1f} $\\pm$ {2:.1f} &  {3:.1f} $\\pm$ {4:.1f} &  {5:.1f} $\\pm$ {6:.1f}'.format(np.sum(success)*100./N, np.mean(comp_times)*1000, np.std(comp_times)*1000, np.mean(comp_times[success])*1000, np.std(comp_times[success])*1000,np.mean(fevals[success]), np.std(fevals[success])), end = ''),\n",
    "    print('\\\\\\\\ ')"
   ]
  },
  {
   "cell_type": "markdown",
   "metadata": {},
   "source": [
    "***"
   ]
  },
  {
   "cell_type": "code",
   "execution_count": 61,
   "metadata": {},
   "outputs": [],
   "source": [
    "col_ids = [plane_id, shelf_id]"
   ]
  },
  {
   "cell_type": "raw",
   "metadata": {},
   "source": [
    "p.removeBody(box_id)"
   ]
  },
  {
   "cell_type": "raw",
   "metadata": {},
   "source": [
    "set_q_std(q0Complete)"
   ]
  },
  {
   "cell_type": "markdown",
   "metadata": {},
   "source": [
    "## c-RRT with Talos"
   ]
  },
  {
   "cell_type": "code",
   "execution_count": 62,
   "metadata": {},
   "outputs": [],
   "source": [
    "rob_col_checker = col_checker(robot_id, pb_joint_indices, col_ids[1:], omit_indices=[ 50, 57], floating_base = True) #omit the collision of the plane with the feet\n",
    "rob_interpolator = interpolator()\n",
    "\n",
    "rrt = cRRT(rmodel.nq, rob_sampler, rob_col_checker, rob_interpolator, robot_projector)\n",
    "\n",
    "# ganrrt = cRRT(rmodel.nq, gan_sampler, rob_col_checker, rob_interpolator, robot_projector)\n",
    "\n",
    "# hybrid_sampler = HybridSampler(rob_sampler, gan_sampler, p_random=0.2)\n",
    "# hybridrrt = cRRT(rmodel.nq, hybrid_sampler, rob_col_checker, rob_interpolator, robot_projector)"
   ]
  },
  {
   "cell_type": "markdown",
   "metadata": {},
   "source": [
    "#### Get initial state"
   ]
  },
  {
   "cell_type": "code",
   "execution_count": 63,
   "metadata": {},
   "outputs": [],
   "source": [
    "init_bounds = np.array([[0.2, -0.6, .7], [0.21, -.7, .7]])\n",
    "goal_bounds = np.array([[0.3, -0.25, 1.1], [0.5, -0., 1.1]])\n",
    "\n",
    "init_sampler = sampler(init_bounds)\n",
    "goal_sampler = sampler(goal_bounds)"
   ]
  },
  {
   "cell_type": "code",
   "execution_count": 64,
   "metadata": {},
   "outputs": [],
   "source": [
    "p.resetBasePositionAndOrientation(target_id, (0.5, -0.2, 0.9), (0,0,0,1))"
   ]
  },
  {
   "cell_type": "markdown",
   "metadata": {},
   "source": [
    "#### Try sampling the tasks"
   ]
  },
  {
   "cell_type": "raw",
   "metadata": {},
   "source": [
    "_, _, ball_id = create_primitives(radius = 0.05)"
   ]
  },
  {
   "cell_type": "code",
   "execution_count": 65,
   "metadata": {},
   "outputs": [],
   "source": [
    "goal_pos = goal_sampler.sample()[0]\n",
    "p.resetBasePositionAndOrientation(target_id, goal_pos, (0,0,0,1))"
   ]
  },
  {
   "cell_type": "raw",
   "metadata": {},
   "source": [
    "init_pos = init_sampler.sample()[0]\n",
    "p.resetBasePositionAndOrientation(target_id, init_pos, (0,0,0,1))"
   ]
  },
  {
   "cell_type": "code",
   "execution_count": 66,
   "metadata": {},
   "outputs": [
    {
     "name": "stdout",
     "output_type": "stream",
     "text": [
      "True\n"
     ]
    }
   ],
   "source": [
    "rh_cost_new.desired_pose = targets[i]\n",
    "# robot_ik_solver.cost.costs['rh_pose'].cost.desired_pose.translation = goal_pos\n",
    "# rh_cost_new.desired_pose.translation = goal_pos\n",
    "\n",
    "q = rob_sampler.sample().flatten()\n",
    "set_q_std(q)\n",
    "time.sleep(0.8)\n",
    "res = robot_ik_solver.project(q)\n",
    "set_q_std(res['q'])\n",
    "\n",
    "\n",
    "print(res['stat'])"
   ]
  },
  {
   "cell_type": "markdown",
   "metadata": {},
   "source": [
    "#### Sample initial and goal configurations"
   ]
  },
  {
   "cell_type": "code",
   "execution_count": 67,
   "metadata": {},
   "outputs": [],
   "source": [
    "def get_valid_config(pos_sampler, goal_pose = None, max_try = 50):\n",
    "    is_collide = True\n",
    "    status = False\n",
    "    i = 0\n",
    "    while is_collide or status is False and i < max_try:\n",
    "        i+=1\n",
    "        if goal_pose is None: \n",
    "            goal_pos = pos_sampler.sample()\n",
    "        else:\n",
    "            goal_pos = goal_pose.copy()\n",
    "        #goal_pos = np.array([0.6, -0.1, .9])[None,:]\n",
    "        #sample = gan_sampler.sample(_poses=goal_pos, var=1.)[0]\n",
    "        sample = rob_sampler.sample()[0]\n",
    "        set_q_std(sample)\n",
    "        rh_cost_new.desired_pose = goal_pos[0]\n",
    "        res = robot_ik_solver.project(sample.flatten(), maxiter=100)\n",
    "        start_state = res['q']\n",
    "        status = res['stat']\n",
    "        is_collide = rob_col_checker.check_collision(start_state.flatten())\n",
    "        if is_collide: \n",
    "            print('Colliding..')\n",
    "            set_q_std(start_state)\n",
    "#             inp = input()\n",
    "            \n",
    "    set_q_std(start_state)\n",
    "    clear_output()\n",
    "    return start_state, goal_pos, res['stat']\n",
    "\n",
    "def get_multiple_configs(pos_sampler, N = 1, R = 1):\n",
    "    samples_set = []\n",
    "    status_set = []\n",
    "    for i in range(N):\n",
    "        print(i)\n",
    "        sample, goal_pos, stat = get_valid_config(pos_sampler)\n",
    "        samples = [sample]\n",
    "        stats = [stat]\n",
    "        for j in range(R-1):\n",
    "            sample, goal_pos, stat = get_valid_config(pos_sampler, goal_pos)\n",
    "            samples += [sample]\n",
    "            stats += [stat]\n",
    "        samples_set += [samples]\n",
    "        status_set += [stats]\n",
    "        clear_output()\n",
    "    return samples_set, status_set"
   ]
  },
  {
   "cell_type": "code",
   "execution_count": 68,
   "metadata": {
    "scrolled": true
   },
   "outputs": [],
   "source": [
    "is_generate_data = True\n",
    "N = 10 #number of initial configurations\n",
    "N_goal = 10\n",
    "K = 5 #number of goal configurations per task\n",
    "\n",
    "if is_generate_data:\n",
    "    init_configs, init_status = get_multiple_configs(init_sampler, N = N)\n",
    "    goal_configs, goal_status = get_multiple_configs(goal_sampler, N = N_goal, R = K)\n",
    "\n",
    "    data_configs = dict()\n",
    "    data_configs['init'] = init_configs\n",
    "    data_configs['goal'] = goal_configs\n",
    "#     np.save('data/task' + str(task) + '_configs.npy', data_configs)\n",
    "else:\n",
    "    data_configs = np.load('data/task' + str(task) + '_configs.npy', allow_pickle=True).tolist()\n",
    "    init_configs = data_configs['init']\n",
    "    goal_configs = data_configs['goal']"
   ]
  },
  {
   "cell_type": "code",
   "execution_count": 119,
   "metadata": {},
   "outputs": [],
   "source": [
    "np.set_printoptions(precision=4, suppress=True)"
   ]
  },
  {
   "cell_type": "raw",
   "metadata": {},
   "source": [
    "for qs in goal_configs:\n",
    "    for q in qs[0:]:\n",
    "        set_q_std(q)\n",
    "        print(computePose(rmodel, rdata, lf_frame_id, q)[0])\n",
    "        input()\n",
    "        res = robot_projector.project(q)\n",
    "        set_q_std(res['q'])\n",
    "        print(res['stat'], res['nfev'])\n",
    "        input()\n",
    "        clear_output()"
   ]
  },
  {
   "cell_type": "raw",
   "metadata": {},
   "source": [
    "for i,qs in enumerate(init_configs[:]):\n",
    "    for q in qs[0:2]:\n",
    "        set_q_std(q)\n",
    "        print(i, np.linalg.norm(q[-14:-7]- q0Complete[-14:-7]))\n",
    "        input()\n",
    "        clear_output()"
   ]
  },
  {
   "cell_type": "markdown",
   "metadata": {},
   "source": [
    "## Planning comparison"
   ]
  },
  {
   "cell_type": "code",
   "execution_count": 69,
   "metadata": {
    "scrolled": true
   },
   "outputs": [],
   "source": [
    "gan_result = dict()\n",
    "std_result = dict()\n",
    "hybrid_result = dict()\n",
    "results = [gan_result, std_result, hybrid_result]\n",
    "for result in results:\n",
    "    result['comp_times'] = []\n",
    "    result['nfevs'] = []\n",
    "    result['retry'] = []\n",
    "    result['nexts'] = []\n",
    "    result['success'] = []\n",
    "    result['path'] = []\n",
    "    result['traj'] = []\n",
    "    result['extend_nfevs'] = []\n",
    "\n",
    "i=0"
   ]
  },
  {
   "cell_type": "raw",
   "metadata": {
    "tags": []
   },
   "source": [
    "goal_indices = np.random.randint(N_goal, size = N)\n",
    "for i,qs in enumerate(init_configs[:]):\n",
    "    start_state = qs[0]\n",
    "    goal_states = goal_configs[goal_indices[i]]\n",
    "\n",
    "    print('Plan RRT')\n",
    "    print(i, np.mean(std_result['comp_times']), np.mean(gan_result['comp_times']), np.mean(hybrid_result['comp_times']))\n",
    "    print(i, np.sum(std_result['success']), np.sum(gan_result['success']), np.sum(hybrid_result['success']))      \n",
    "\n",
    "    #plan using crrt\n",
    "    traj, nfevs, nexts, success, retry, t, path = rrt.plan(start_state,goal_states, max_extension_steps=500)\n",
    "    clear_output()\n",
    "    std_result['comp_times'] += [t]\n",
    "    std_result['nfevs'] += [nfevs]\n",
    "    std_result['retry'] += [retry]\n",
    "    std_result['nexts'] += [nexts]\n",
    "    std_result['success'] += [success]\n",
    "    std_result['path'] += [path]\n",
    "    std_result['traj'] += [traj]\n",
    "    std_result['extend_nfevs'] = [rrt.extend_nfevs]"
   ]
  },
  {
   "cell_type": "raw",
   "metadata": {
    "tags": []
   },
   "source": [
    "    print('Plan GAN RRT')\n",
    "    print(i, np.mean(std_result['comp_times']), np.mean(gan_result['comp_times']), np.mean(hybrid_result['comp_times']))\n",
    "    print(i, np.sum(std_result['success']), np.sum(gan_result['success']), np.sum(hybrid_result['success']))      \n",
    "\n",
    "    #plan using ganrrt\n",
    "    traj, nfevs, nexts, success, retry, t , path = ganrrt.plan(start_state,goal_states, max_extension_steps=500, n_retry=5)\n",
    "    clear_output()\n",
    "    gan_result['comp_times'] += [t]\n",
    "    gan_result['nfevs'] += [nfevs]\n",
    "    gan_result['retry'] += [retry]\n",
    "    gan_result['nexts'] += [nexts]\n",
    "    gan_result['success'] += [success]\n",
    "    gan_result['path'] += [path]\n",
    "    gan_result['traj'] += [traj]\n",
    "    gan_result['extend_nfevs'] = [ganrrt.extend_nfevs]\n",
    "\n",
    "#     print('Plan Hybrid RRT')\n",
    "#     print(i, np.mean(std_result['comp_times']), np.mean(gan_result['comp_times']), np.mean(hybrid_result['comp_times']))\n",
    "#     print(i, np.sum(std_result['success']), np.sum(gan_result['success']), np.sum(hybrid_result['success']))      \n",
    "    \n",
    "#     #plan using hybridrrt\n",
    "#     traj, nfevs, nexts, success, retry, t, path  = hybridrrt.plan(start_state,goal_states, max_extension_steps=500)\n",
    "#     clear_output()\n",
    "#     hybrid_result['comp_times'] += [t]\n",
    "#     hybrid_result['nfevs'] += [nfevs]\n",
    "#     hybrid_result['retry'] += [retry]\n",
    "#     hybrid_result['nexts'] += [nexts]\n",
    "#     hybrid_result['success'] += [success]\n",
    "#     hybrid_result['path'] += [path]\n",
    "#     hybrid_result['traj'] += [traj]\n",
    "#     hybrid_result['extend_nfevs'] = [hybridrrt.extend_nfevs]\n",
    "\n",
    "\n",
    "    if i % 20 == 0:\n",
    "        data = dict()\n",
    "        data['random'] = std_result\n",
    "        data['gan'] = gan_result\n",
    "        data['hybrid'] = hybrid_result\n",
    "        np.save('data/task3_temp.npy', data)"
   ]
  },
  {
   "cell_type": "raw",
   "metadata": {},
   "source": [
    "print('& Random & {0:.1f} & {1:.2f} $\\pm$ {2:.2f} & {3:.1f} $\\pm$ {4:.1f} & {5:.1f} $\\pm$ {6:.1f} \\\\\\\\'.format(np.sum(std_result['success'])*100./len(std_result['success']), np.mean(std_result['comp_times']), np.std(std_result['comp_times']), np.mean(std_result['nfevs']), np.std(std_result['nfevs']), np.mean(std_result['nexts']), np.std(std_result['nexts'])))\n",
    "\n",
    "print('& GAN & {0:.1f} & {1:.2f} $\\pm$ {2:.2f} & {3:.1f} $\\pm$ {4:.1f} & {5:.1f} $\\pm$ {6:.1f} \\\\\\\\'.format(np.sum(gan_result['success'])*100./len(gan_result['success']), np.mean(gan_result['comp_times']), np.std(gan_result['comp_times']), np.mean(gan_result['nfevs']), np.std(gan_result['nfevs']), np.mean(gan_result['nexts']), np.std(gan_result['nexts'])))\n",
    "\n",
    "print('& Hybrid & {0:.1f} & {1:.2f} $\\pm$ {2:.2f} & {3:.1f} $\\pm$ {4:.1f} & {5:.1f} $\\pm$ {6:.1f} \\\\\\\\'.format(np.sum(hybrid_result['success'])*100./len(hybrid_result['success']), np.mean(hybrid_result['comp_times']), np.std(hybrid_result['comp_times']), np.mean(hybrid_result['nfevs']), np.std(hybrid_result['nfevs']), np.mean(hybrid_result['nexts']), np.std(hybrid_result['nexts'])))"
   ]
  },
  {
   "cell_type": "markdown",
   "metadata": {},
   "source": [
    "#### Visualize one path"
   ]
  },
  {
   "cell_type": "raw",
   "metadata": {},
   "source": [
    "trajs = gan_result['traj']\n",
    "vis_traj_std(trajs[3])"
   ]
  },
  {
   "cell_type": "raw",
   "metadata": {},
   "source": [
    "trajs = std_result['traj']\n",
    "vis_traj_std(trajs[0])"
   ]
  },
  {
   "cell_type": "raw",
   "metadata": {},
   "source": [
    "np.set_printoptions(precision=4, suppress=True)"
   ]
  },
  {
   "cell_type": "markdown",
   "metadata": {},
   "source": [
    "#### Try some planning"
   ]
  },
  {
   "cell_type": "raw",
   "metadata": {},
   "source": [
    "pos_init = computePose(rmodel, rdata, rh_frame_id, start_state)[0]\n",
    "p.resetBasePositionAndOrientation(target_id, pos_init, (0,0,0,1))\n",
    "\n",
    "pos_goal = computePose(rmodel, rdata, rh_frame_id, goal_states[0])[0]\n",
    "p.resetBasePositionAndOrientation(target_id, pos_init, (0,0,0,1))"
   ]
  },
  {
   "cell_type": "code",
   "execution_count": 70,
   "metadata": {},
   "outputs": [
    {
     "name": "stdout",
     "output_type": "stream",
     "text": [
      "Solution is found!\n",
      "Solution found!\n"
     ]
    }
   ],
   "source": [
    "start_state = init_configs[2][0]\n",
    "# start_state = q0Complete\n",
    "goal_states = goal_configs[2]\n",
    "#plan using crrt\n",
    "traj, nfevs, nexts, success, retry, t, path = rrt.plan(start_state,goal_states, max_extension_steps=500)"
   ]
  },
  {
   "cell_type": "code",
   "execution_count": 71,
   "metadata": {},
   "outputs": [],
   "source": [
    "vis_traj_std(traj)"
   ]
  },
  {
   "cell_type": "markdown",
   "metadata": {},
   "source": [
    "#### Shortcut"
   ]
  },
  {
   "cell_type": "code",
   "execution_count": 72,
   "metadata": {},
   "outputs": [],
   "source": [
    "short_path = rrt.shortcut_path(path)"
   ]
  },
  {
   "cell_type": "code",
   "execution_count": 73,
   "metadata": {},
   "outputs": [],
   "source": [
    "short_traj = rrt.interpolate_traj(short_path, step_length = 0.02)\n",
    "# short_traj2 = rrt.interpolate_traj(short_path, step_length = 0.002)"
   ]
  },
  {
   "cell_type": "code",
   "execution_count": null,
   "metadata": {},
   "outputs": [],
   "source": [
    "vis_traj_std(short_traj, dt = 0.01)"
   ]
  },
  {
   "cell_type": "markdown",
   "metadata": {},
   "source": [
    "#### Save Data"
   ]
  },
  {
   "cell_type": "code",
   "execution_count": 113,
   "metadata": {},
   "outputs": [],
   "source": [
    "selected_joints = np.concatenate([np.arange(2,15), np.arange(25, 38)])\n",
    "selected_joints_indices = pb_joint_indices[selected_joints]\n",
    "\n",
    "selected_traj = np.hstack([np.array(short_traj)[:,:7],np.array(short_traj)[:,selected_joints+7]])"
   ]
  },
  {
   "cell_type": "code",
   "execution_count": 115,
   "metadata": {},
   "outputs": [],
   "source": [
    "set_q_std_selected = partial(set_q,robot_id, selected_joints_indices, set_base=True)\n",
    "vis_traj(selected_traj, set_q_std_selected, dt = 0.01)"
   ]
  },
  {
   "cell_type": "code",
   "execution_count": 119,
   "metadata": {},
   "outputs": [],
   "source": [
    "selected_joints_names = np.array(pb_joint_indices_names)[selected_joints]"
   ]
  },
  {
   "cell_type": "code",
   "execution_count": null,
   "metadata": {},
   "outputs": [],
   "source": [
    "selected_joints = np.concatenate([np.arange(2,15), np.arange(25, 38)])\n",
    "selected_joints_indices = pb_joint_indices[selected_joints]\n",
    "set_q_std_selected = partial(set_q,robot_id, selected_joints_indices, set_base=True)\n",
    "# vis_traj(selected_traj, set_q_std_selected, dt = 0.01)\n",
    "selected_joints_names = np.array(pb_joint_indices_names)[selected_joints]"
   ]
  },
  {
   "cell_type": "markdown",
   "metadata": {},
   "source": [
    "#### Batch Computation"
   ]
  },
  {
   "cell_type": "code",
   "execution_count": 147,
   "metadata": {},
   "outputs": [],
   "source": [
    "trajs_10ms = []\n",
    "trajs_1ms = []"
   ]
  },
  {
   "cell_type": "code",
   "execution_count": 148,
   "metadata": {},
   "outputs": [
    {
     "name": "stdout",
     "output_type": "stream",
     "text": [
      "Solution is found!\n",
      "Solution found!\n",
      "Solution is found!\n",
      "Solution found!\n",
      "Solution is found!\n",
      "Solution found!\n",
      "Solution is found!\n",
      "Solution found!\n",
      "Solution is found!\n",
      "Solution found!\n",
      "Solution is found!\n",
      "Solution found!\n",
      "Solution is found!\n",
      "Solution found!\n",
      "Solution is found!\n",
      "Solution found!\n",
      "Solution is found!\n",
      "Solution found!\n",
      "Solution is found!\n",
      "Solution found!\n"
     ]
    }
   ],
   "source": [
    "for i in range(10):\n",
    "    start_state = init_configs[i][0]\n",
    "    goal_states = goal_configs[i]\n",
    "\n",
    "    #plan using crrt\n",
    "    traj, nfevs, nexts, success, retry, t, path = rrt.plan(start_state,goal_states, max_extension_steps=500)\n",
    "\n",
    "    #### Shortcut\n",
    "    short_path = rrt.shortcut_path(path)\n",
    "    short_traj = rrt.interpolate_traj(short_path, step_length = 0.02)\n",
    "    short_traj2 = rrt.interpolate_traj(short_path, step_length = 0.002)\n",
    "\n",
    "    #### Extract Data\n",
    "    selected_traj = np.hstack([np.array(short_traj)[:,:7],np.array(short_traj)[:,selected_joints+7]])\n",
    "    selected_traj2 = np.hstack([np.array(short_traj2)[:,:7],np.array(short_traj2)[:,selected_joints+7]])\n",
    "\n",
    "    trajs_1ms += [np.array(selected_traj2)]\n",
    "    trajs_10ms += [np.array(selected_traj)]"
   ]
  },
  {
   "cell_type": "code",
   "execution_count": 149,
   "metadata": {},
   "outputs": [],
   "source": [
    "data_10ms = dict()\n",
    "data_10ms['trajs'] = trajs_10ms\n",
    "data_10ms['joint_names'] = selected_joints_names\n",
    "np.save('data/traj_10ms.npy', data_10ms)\n",
    "\n",
    "data_1ms = dict()\n",
    "data_1ms['trajs'] = trajs_1ms\n",
    "data_1ms['joint_names'] = selected_joints_names\n",
    "np.save('data/traj_1ms.npy', data_1ms)"
   ]
  },
  {
   "cell_type": "code",
   "execution_count": 151,
   "metadata": {},
   "outputs": [],
   "source": [
    "data = np.load('data/traj_10ms.npy', allow_pickle=True)[()]\n",
    "trajs = data['trajs']"
   ]
  },
  {
   "cell_type": "raw",
   "metadata": {},
   "source": [
    "for name in selected_joints_names:\n",
    "    print(name)"
   ]
  },
  {
   "cell_type": "code",
   "execution_count": 169,
   "metadata": {},
   "outputs": [
    {
     "ename": "KeyboardInterrupt",
     "evalue": "",
     "output_type": "error",
     "traceback": [
      "\u001b[0;31m---------------------------------------------------------------------------\u001b[0m",
      "\u001b[0;31mKeyboardInterrupt\u001b[0m                         Traceback (most recent call last)",
      "\u001b[0;32m<ipython-input-169-164765eddf43>\u001b[0m in \u001b[0;36m<module>\u001b[0;34m\u001b[0m\n\u001b[1;32m      1\u001b[0m \u001b[0;32mfor\u001b[0m \u001b[0mi\u001b[0m \u001b[0;32min\u001b[0m \u001b[0mrange\u001b[0m\u001b[0;34m(\u001b[0m\u001b[0;36m10\u001b[0m\u001b[0;34m)\u001b[0m\u001b[0;34m:\u001b[0m\u001b[0;34m\u001b[0m\u001b[0;34m\u001b[0m\u001b[0m\n\u001b[0;32m----> 2\u001b[0;31m     \u001b[0mvis_traj\u001b[0m\u001b[0;34m(\u001b[0m\u001b[0mdata\u001b[0m\u001b[0;34m[\u001b[0m\u001b[0;34m'trajs'\u001b[0m\u001b[0;34m]\u001b[0m\u001b[0;34m[\u001b[0m\u001b[0mi\u001b[0m\u001b[0;34m]\u001b[0m\u001b[0;34m,\u001b[0m \u001b[0mset_q_std_selected\u001b[0m\u001b[0;34m,\u001b[0m \u001b[0mdt\u001b[0m \u001b[0;34m=\u001b[0m \u001b[0;36m0.01\u001b[0m\u001b[0;34m)\u001b[0m\u001b[0;34m\u001b[0m\u001b[0;34m\u001b[0m\u001b[0m\n\u001b[0m\u001b[1;32m      3\u001b[0m     \u001b[0mtime\u001b[0m\u001b[0;34m.\u001b[0m\u001b[0msleep\u001b[0m\u001b[0;34m(\u001b[0m\u001b[0;36m1\u001b[0m\u001b[0;34m)\u001b[0m\u001b[0;34m\u001b[0m\u001b[0;34m\u001b[0m\u001b[0m\n",
      "\u001b[0;32m~/git/publications/learning_distribution_gan/tf_robot_learning/notebooks/motion_planning_sampling/lib/utils.py\u001b[0m in \u001b[0;36mvis_traj\u001b[0;34m(qs, vis_func, dt)\u001b[0m\n\u001b[1;32m    113\u001b[0m \u001b[0;32mdef\u001b[0m \u001b[0mvis_traj\u001b[0m\u001b[0;34m(\u001b[0m\u001b[0mqs\u001b[0m\u001b[0;34m,\u001b[0m \u001b[0mvis_func\u001b[0m\u001b[0;34m,\u001b[0m \u001b[0mdt\u001b[0m\u001b[0;34m=\u001b[0m\u001b[0;36m0.1\u001b[0m\u001b[0;34m)\u001b[0m\u001b[0;34m:\u001b[0m\u001b[0;34m\u001b[0m\u001b[0;34m\u001b[0m\u001b[0m\n\u001b[1;32m    114\u001b[0m     \u001b[0;32mfor\u001b[0m \u001b[0mq\u001b[0m \u001b[0;32min\u001b[0m \u001b[0mqs\u001b[0m\u001b[0;34m:\u001b[0m\u001b[0;34m\u001b[0m\u001b[0;34m\u001b[0m\u001b[0m\n\u001b[0;32m--> 115\u001b[0;31m         \u001b[0mvis_func\u001b[0m\u001b[0;34m(\u001b[0m\u001b[0mq\u001b[0m\u001b[0;34m)\u001b[0m\u001b[0;34m\u001b[0m\u001b[0;34m\u001b[0m\u001b[0m\n\u001b[0m\u001b[1;32m    116\u001b[0m         \u001b[0mtime\u001b[0m\u001b[0;34m.\u001b[0m\u001b[0msleep\u001b[0m\u001b[0;34m(\u001b[0m\u001b[0mdt\u001b[0m\u001b[0;34m)\u001b[0m\u001b[0;34m\u001b[0m\u001b[0;34m\u001b[0m\u001b[0m\n\u001b[1;32m    117\u001b[0m \u001b[0;34m\u001b[0m\u001b[0m\n",
      "\u001b[0;32m~/git/publications/learning_distribution_gan/tf_robot_learning/notebooks/motion_planning_sampling/lib/utils.py\u001b[0m in \u001b[0;36mset_q\u001b[0;34m(robot_id, joint_indices, q, set_base)\u001b[0m\n\u001b[1;32m    108\u001b[0m     \u001b[0;31m#set joint angles\u001b[0m\u001b[0;34m\u001b[0m\u001b[0;34m\u001b[0m\u001b[0;34m\u001b[0m\u001b[0m\n\u001b[1;32m    109\u001b[0m     \u001b[0;32mfor\u001b[0m \u001b[0mi\u001b[0m \u001b[0;32min\u001b[0m \u001b[0mrange\u001b[0m\u001b[0;34m(\u001b[0m\u001b[0mlen\u001b[0m\u001b[0;34m(\u001b[0m\u001b[0mq_joint\u001b[0m\u001b[0;34m)\u001b[0m\u001b[0;34m)\u001b[0m\u001b[0;34m:\u001b[0m\u001b[0;34m\u001b[0m\u001b[0;34m\u001b[0m\u001b[0m\n\u001b[0;32m--> 110\u001b[0;31m         \u001b[0mp\u001b[0m\u001b[0;34m.\u001b[0m\u001b[0mresetJointState\u001b[0m\u001b[0;34m(\u001b[0m\u001b[0mrobot_id\u001b[0m\u001b[0;34m,\u001b[0m \u001b[0mjoint_indices\u001b[0m\u001b[0;34m[\u001b[0m\u001b[0mi\u001b[0m\u001b[0;34m]\u001b[0m\u001b[0;34m,\u001b[0m \u001b[0mq_joint\u001b[0m\u001b[0;34m[\u001b[0m\u001b[0mi\u001b[0m\u001b[0;34m]\u001b[0m\u001b[0;34m)\u001b[0m\u001b[0;34m\u001b[0m\u001b[0;34m\u001b[0m\u001b[0m\n\u001b[0m\u001b[1;32m    111\u001b[0m \u001b[0;34m\u001b[0m\u001b[0m\n\u001b[1;32m    112\u001b[0m \u001b[0;34m\u001b[0m\u001b[0m\n",
      "\u001b[0;31mKeyboardInterrupt\u001b[0m: "
     ]
    }
   ],
   "source": [
    "for i in range(10):\n",
    "    vis_traj(data['trajs'][i], set_q_std_selected, dt = 0.01)\n",
    "    time.sleep(1)"
   ]
  },
  {
   "cell_type": "code",
   "execution_count": 140,
   "metadata": {},
   "outputs": [],
   "source": [
    "vis_traj(data_1ms['trajs'][0], set_q_std_selected, dt = 0.001)"
   ]
  },
  {
   "cell_type": "markdown",
   "metadata": {},
   "source": [
    "#### Save data"
   ]
  },
  {
   "cell_type": "raw",
   "metadata": {},
   "source": [
    "data = dict()\n",
    "data['random'] = std_result\n",
    "data['gan'] = gan_result\n",
    "data['hybrid'] = hybrid_result\n",
    "np.save('data/task' + str(task) + '.npy', data)"
   ]
  },
  {
   "cell_type": "markdown",
   "metadata": {},
   "source": [
    "# Check step by step"
   ]
  },
  {
   "cell_type": "code",
   "execution_count": 370,
   "metadata": {},
   "outputs": [],
   "source": [
    "selected_rrt = ganrrt"
   ]
  },
  {
   "cell_type": "markdown",
   "metadata": {},
   "source": [
    "#### Select task"
   ]
  },
  {
   "cell_type": "code",
   "execution_count": 375,
   "metadata": {},
   "outputs": [],
   "source": [
    "i = 0\n",
    "start_state = init_configs[i][0]\n",
    "goal_states = goal_configs[goal_indices[i]]"
   ]
  },
  {
   "cell_type": "code",
   "execution_count": 379,
   "metadata": {},
   "outputs": [],
   "source": [
    "start_state = q0Complete"
   ]
  },
  {
   "cell_type": "code",
   "execution_count": 382,
   "metadata": {},
   "outputs": [],
   "source": [
    "set_q_std(start_state)"
   ]
  },
  {
   "cell_type": "code",
   "execution_count": 383,
   "metadata": {},
   "outputs": [],
   "source": [
    "set_q_std(goal_states[0])"
   ]
  },
  {
   "cell_type": "raw",
   "metadata": {},
   "source": [
    "#plan using crrt\n",
    "traj, nfevs, nexts, success, retry, t, path = selected_rrt.plan(q0Complete,goal_states, max_extension_steps=500)\n",
    "print(t, nexts)\n",
    "vis_traj_std(traj)"
   ]
  },
  {
   "cell_type": "code",
   "execution_count": 384,
   "metadata": {},
   "outputs": [],
   "source": [
    "selected_rrt.init_plan(start_state,goal_states)"
   ]
  },
  {
   "cell_type": "markdown",
   "metadata": {},
   "source": [
    "#### Pick random sample"
   ]
  },
  {
   "cell_type": "code",
   "execution_count": 451,
   "metadata": {},
   "outputs": [],
   "source": [
    "selected_rrt.random_sample, nfev = selected_rrt.sample(False)\n",
    "selected_rrt.random_sample = selected_rrt.random_sample.flatten()"
   ]
  },
  {
   "cell_type": "code",
   "execution_count": 452,
   "metadata": {},
   "outputs": [],
   "source": [
    "set_q_std(selected_rrt.random_sample)"
   ]
  },
  {
   "cell_type": "markdown",
   "metadata": {},
   "source": [
    "#### Find the nearest neighbor"
   ]
  },
  {
   "cell_type": "code",
   "execution_count": 453,
   "metadata": {},
   "outputs": [],
   "source": [
    "nearest_index, nearest_sample = selected_rrt.find_nearest(selected_rrt.random_sample, np.array(selected_rrt.samples))"
   ]
  },
  {
   "cell_type": "code",
   "execution_count": 454,
   "metadata": {},
   "outputs": [],
   "source": [
    "set_q_std(nearest_sample.flatten())"
   ]
  },
  {
   "cell_type": "markdown",
   "metadata": {},
   "source": [
    "#### Extend to the random sample"
   ]
  },
  {
   "cell_type": "code",
   "execution_count": 455,
   "metadata": {},
   "outputs": [],
   "source": [
    "selected_rrt.next_states, nfev = selected_rrt.extend(nearest_index[0], nearest_sample.flatten(), selected_rrt.random_sample.flatten(), max_increments=40)\n",
    "q_reach_a = rrt.next_states[-1]"
   ]
  },
  {
   "cell_type": "code",
   "execution_count": 456,
   "metadata": {},
   "outputs": [],
   "source": [
    "set_q_std(nearest_sample.flatten())"
   ]
  },
  {
   "cell_type": "code",
   "execution_count": 457,
   "metadata": {},
   "outputs": [],
   "source": [
    "vis_traj_std(selected_rrt.next_states)"
   ]
  },
  {
   "cell_type": "code",
   "execution_count": 458,
   "metadata": {},
   "outputs": [],
   "source": [
    "set_q_std(selected_rrt.random_sample)"
   ]
  },
  {
   "cell_type": "markdown",
   "metadata": {},
   "source": [
    "#### Find the nearest goal"
   ]
  },
  {
   "cell_type": "code",
   "execution_count": 459,
   "metadata": {},
   "outputs": [],
   "source": [
    "nearest_index, nearest_sample = selected_rrt.find_nearest(q_reach_a, np.array(selected_rrt.goal_state))\n",
    "q_goal = nearest_sample.flatten()\n",
    "set_q_std(q_goal)"
   ]
  },
  {
   "cell_type": "markdown",
   "metadata": {},
   "source": [
    "#### Extend to the nearest goal"
   ]
  },
  {
   "cell_type": "code",
   "execution_count": 460,
   "metadata": {},
   "outputs": [],
   "source": [
    "selected_rrt.next_states_goal, nfev = selected_rrt.extend(len(selected_rrt.samples) - 1, selected_rrt.next_states[-1], q_goal, max_increments=100)"
   ]
  },
  {
   "cell_type": "code",
   "execution_count": 461,
   "metadata": {},
   "outputs": [],
   "source": [
    "set_q_std(q_reach_a.flatten())"
   ]
  },
  {
   "cell_type": "code",
   "execution_count": 462,
   "metadata": {},
   "outputs": [],
   "source": [
    "vis_traj_std(selected_rrt.next_states_goal)"
   ]
  },
  {
   "cell_type": "code",
   "execution_count": 463,
   "metadata": {},
   "outputs": [],
   "source": [
    "set_q_std(selected_rrt.next_states_goal[-1])"
   ]
  },
  {
   "cell_type": "code",
   "execution_count": 432,
   "metadata": {},
   "outputs": [],
   "source": [
    "set_q_std(q_goal)"
   ]
  },
  {
   "cell_type": "code",
   "execution_count": 464,
   "metadata": {},
   "outputs": [],
   "source": [
    "set_q_std(q0Complete)"
   ]
  },
  {
   "cell_type": "code",
   "execution_count": 495,
   "metadata": {},
   "outputs": [],
   "source": [
    "q_mod = q0Complete.copy()"
   ]
  },
  {
   "cell_type": "code",
   "execution_count": 500,
   "metadata": {},
   "outputs": [],
   "source": [
    "q_mod[7+9] = 1"
   ]
  },
  {
   "cell_type": "code",
   "execution_count": 501,
   "metadata": {},
   "outputs": [],
   "source": [
    "set_q_std(q_mod)"
   ]
  },
  {
   "cell_type": "code",
   "execution_count": 504,
   "metadata": {},
   "outputs": [
    {
     "data": {
      "text/plain": [
       "(array([ 2.,  2.,  2., 18.,  8.,  7.,  6.,  7.,  0.,  3.]),\n",
       " array([-1.118 , -0.823 , -0.528 , -0.233 ,  0.062 ,  0.357 ,  0.652 ,\n",
       "         0.947 ,  1.242 ,  1.537 ,  1.8321]),\n",
       " <BarContainer object of 10 artists>)"
      ]
     },
     "execution_count": 504,
     "metadata": {},
     "output_type": "execute_result"
    },
    {
     "data": {
      "image/png": "[encoded data removed]",
      "text/plain": [
       "<Figure size 432x288 with 1 Axes>"
      ]
     },
     "metadata": {
      "needs_background": "light"
     },
     "output_type": "display_data"
    }
   ],
   "source": [
    "plt.hist(pb_data[11])"
   ]
  },
  {
   "cell_type": "code",
   "execution_count": null,
   "metadata": {},
   "outputs": [],
   "source": []
  }
 ],
 "metadata": {
  "anaconda-cloud": {},
  "hide_input": false,
  "kernelspec": {
   "display_name": "Python 3",
   "language": "python",
   "name": "python3"
  },
  "language_info": {
   "codemirror_mode": {
    "name": "ipython",
    "version": 3
   },
   "file_extension": ".py",
   "mimetype": "text/x-python",
   "name": "python",
   "nbconvert_exporter": "python",
   "pygments_lexer": "ipython3",
   "version": "3.9.5"
  },
  "latex_envs": {
   "bibliofile": "biblio.bib",
   "cite_by": "apalike",
   "current_citInitial": 1,
   "eqLabelWithNumbers": true,
   "eqNumInitial": 0
  }
 },
 "nbformat": 4,
 "nbformat_minor": 4
}

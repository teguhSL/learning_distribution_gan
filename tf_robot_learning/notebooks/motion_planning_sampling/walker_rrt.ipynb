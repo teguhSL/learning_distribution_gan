{
 "cells": [
  {
   "cell_type": "raw",
   "metadata": {},
   "source": [
    "Discussion with Zhipeng\n",
    "- urdf model\n",
    "- the env setup\n",
    "- the gripper configuration\n",
    "- \n",
    "150kg\n",
    "\n",
    "66mm, 116\n",
    "52.5mm, 136\n",
    "\n",
    "just the upper body first\n",
    "get default configuration for the leg"
   ]
  },
  {
   "cell_type": "raw",
   "metadata": {},
   "source": [
    "#### Size:\n",
    "Height: 1.5\n",
    "Root std: 1.14\n",
    "COM: 0.644 "
   ]
  },
  {
   "cell_type": "markdown",
   "metadata": {},
   "source": [
    "# Walker Example"
   ]
  },
  {
   "cell_type": "code",
   "execution_count": 1,
   "metadata": {},
   "outputs": [],
   "source": [
    "import sys\n",
    "sys.path.append('lib')\n",
    "\n",
    "import numpy as np\n",
    "import matplotlib.pyplot as plt\n",
    "import os, time\n",
    "\n",
    "from IPython.core import display\n",
    "\n",
    "import pybullet as p\n",
    "import pybullet_data\n",
    "from scipy.optimize import fmin_bfgs\n",
    "from functools import partial\n",
    "\n",
    "from pb_utils.kine import get_joint_limits, check_joint_limits\n",
    "from pb_utils.visualize import set_q, vis_traj, create_primitives\n",
    "from pb_utils.transform import mat2euler, mat2w\n",
    "from pin_utils.pin_utils import computeJacobian, computePose\n",
    "\n",
    "from residuals import ResidualFrameTranslationFloatingBase, ResidualFrameRotationSE3FloatingBase, ResidualBound, \\\n",
    "                        ResidualPosture, ResidualSum, ResidualStructure, CostProjector, clip_bounds\n",
    "from motion_planning import sampler, talos_sampler, col_checker, interpolator, cRRT\n",
    "\n",
    "import pinocchio as pin\n",
    "\n",
    "from walker_config import q0Complete, q0CompleteCabinet, q0CompleteDrawer\n",
    "from walker_config import T_drawer, T_cabinet\n",
    "\n",
    "from residuals import ResidualFrameSE3FloatingBase, ResidualBoundFloatingBase, \\\n",
    "    ResidualCOMBounds, ResidualPosture, ResidualSum, CostProjector\n",
    "import transforms3d\n",
    "DATA_PATH = '/home/teguh/git/rli/learning_distribution_gan/tf_robot_learning/data'\n",
    "\n",
    "%load_ext autoreload\n",
    "%autoreload 2\n",
    "%matplotlib inline\n",
    "\n"
   ]
  },
  {
   "cell_type": "markdown",
   "metadata": {},
   "source": [
    "### Setup Pybullet"
   ]
  },
  {
   "cell_type": "code",
   "execution_count": 2,
   "metadata": {},
   "outputs": [],
   "source": [
    "physics_client_id = p.connect(p.GUI)\n",
    "\n",
    "p.setPhysicsEngineParameter(enableFileCaching=0)\n",
    "p.setAdditionalSearchPath(pybullet_data.getDataPath())\n",
    "p.configureDebugVisualizer(p.COV_ENABLE_GUI,0)"
   ]
  },
  {
   "cell_type": "code",
   "execution_count": 3,
   "metadata": {},
   "outputs": [],
   "source": [
    "p.resetSimulation()"
   ]
  },
  {
   "cell_type": "markdown",
   "metadata": {},
   "source": [
    "#### Load in pybullet"
   ]
  },
  {
   "cell_type": "code",
   "execution_count": 4,
   "metadata": {},
   "outputs": [],
   "source": [
    "#load robot\n",
    "robot_urdf = DATA_PATH + '/urdf/walker_description/urdf/walker_simple.urdf';\n",
    "robot_id = p.loadURDF(fileName=robot_urdf, flags=p.URDF_USE_SELF_COLLISION_EXCLUDE_PARENT, )\n",
    "dof = p.getNumJoints(robot_id)\n",
    "\n",
    "#load plane\n",
    "plane_id = p.loadURDF('plane.urdf')\n",
    "# p.resetBasePositionAndOrientation(plane_id, (0,0,0), np.array([0,0,0,1]))"
   ]
  },
  {
   "cell_type": "markdown",
   "metadata": {},
   "source": [
    "#### Load obstacles"
   ]
  },
  {
   "cell_type": "raw",
   "metadata": {},
   "source": [
    "p.resetSimulation()"
   ]
  },
  {
   "cell_type": "code",
   "execution_count": 5,
   "metadata": {},
   "outputs": [],
   "source": [
    "shelf_urdf = '/home/teguh/git/rli/learning_distribution_gan/tf_robot_learning/data/urdf/shelf_new.urdf'\n",
    "shelf_id = p.loadURDF(shelf_urdf)"
   ]
  },
  {
   "cell_type": "code",
   "execution_count": 6,
   "metadata": {},
   "outputs": [],
   "source": [
    "p.resetBasePositionAndOrientation(shelf_id,(.7,0.8,0), (0,0,np.sin(np.pi/2), np.cos(np.pi/2)) )\n",
    "p.resetBasePositionAndOrientation(shelf_id,(.7,-0.5,0), (0,0,np.sin(np.pi/2), np.cos(np.pi/2)) )\n",
    "# p.resetJointState(shelf_id, 7, 0.4)"
   ]
  },
  {
   "cell_type": "markdown",
   "metadata": {},
   "source": [
    "#### Create cabinet & can"
   ]
  },
  {
   "cell_type": "code",
   "execution_count": 7,
   "metadata": {},
   "outputs": [],
   "source": [
    "_,_,can_id = create_primitives(p.GEOM_CYLINDER, radius=0.033, length = 0.122)\n",
    "angle = 0\n",
    "pos_can = np.array([0.22,-0.5,0.66+0.066])\n",
    "p.resetBasePositionAndOrientation(can_id, pos_can, (np.sin(angle/2),0,0,np.cos(angle/2)))\n",
    "\n",
    "_,_,cabinet_id = create_primitives(p.GEOM_BOX, halfExtents=[0.205, 0.27,  0.33])\n",
    "p.resetBasePositionAndOrientation(cabinet_id, (0.1,-0.7,0.33), (0,0,0,1))"
   ]
  },
  {
   "cell_type": "raw",
   "metadata": {},
   "source": [
    "_,_,target_id = create_primitives(p.GEOM_BOX, halfExtents=[0.05, 0.05, 0.05], rgbaColor=[1,0,0,1])"
   ]
  },
  {
   "cell_type": "markdown",
   "metadata": {},
   "source": [
    "#### Define frame indices"
   ]
  },
  {
   "cell_type": "code",
   "execution_count": 8,
   "metadata": {},
   "outputs": [],
   "source": [
    "pb_frame_names = [p.getJointInfo(robot_id,i)[1].decode('UTF-8') for i in range(dof)]\n",
    "pb_lh_frame_id = pb_frame_names.index('left_tcp_joint')\n",
    "pb_rh_frame_id = pb_frame_names.index('right_tcp_joint')\n",
    "pb_lf_frame_id = pb_frame_names.index('left_sole')\n",
    "pb_rf_frame_id = pb_frame_names.index('right_sole')"
   ]
  },
  {
   "cell_type": "markdown",
   "metadata": {},
   "source": [
    "#### Load from pinocchio"
   ]
  },
  {
   "cell_type": "code",
   "execution_count": 9,
   "metadata": {},
   "outputs": [],
   "source": [
    "rmodel = pin.buildModelFromUrdf(robot_urdf , pin.JointModelFreeFlyer())\n",
    "rdata = rmodel.createData()\n",
    "rdata = rmodel.createData()\n",
    "\n",
    "robot_joint_limits = np.vstack([rmodel.lowerPositionLimit, rmodel.upperPositionLimit])\n",
    "for i in range(robot_joint_limits.shape[0]):\n",
    "    for j in range(robot_joint_limits.shape[1]):\n",
    "        if robot_joint_limits[i,j] < -1e10: robot_joint_limits[i,j] = -1e10\n",
    "        if robot_joint_limits[i,j] > 1e10: robot_joint_limits[i,j] = 1e10\n",
    "\n",
    "pin_frame_names = [f.name for f in rmodel.frames]\n",
    "lh_frame_id = rmodel.getFrameId('left_tcp_joint')\n",
    "rh_frame_id = rmodel.getFrameId('right_tcp_joint')\n",
    "lf_frame_id = rmodel.getFrameId('left_sole')\n",
    "rf_frame_id = rmodel.getFrameId('right_sole')\n",
    "\n",
    "pin_joint_names = []\n",
    "for i,f in enumerate(rmodel.names): \n",
    "    pin_joint_names.append(f)\n",
    "\n",
    "pb_joint_indices = []\n",
    "pb_joint_indices_names = []\n",
    "for pin_name in pin_joint_names[2:]:\n",
    "    pb_joint_indices.append(pb_frame_names.index(pin_name))\n",
    "    pb_joint_indices_names.append(pin_name)\n",
    "\n",
    "pb_joint_indices = np.array(pb_joint_indices)"
   ]
  },
  {
   "cell_type": "code",
   "execution_count": 10,
   "metadata": {},
   "outputs": [],
   "source": [
    "#set default visualization function\n",
    "set_q_std = partial(set_q,robot_id=robot_id, joint_indices=pb_joint_indices, set_base=True)\n",
    "set_q_std(q0Complete)\n",
    "vis_traj_std = partial(vis_traj, vis_func = set_q_std)"
   ]
  },
  {
   "cell_type": "markdown",
   "metadata": {},
   "source": [
    "#### Define target poses"
   ]
  },
  {
   "cell_type": "code",
   "execution_count": 11,
   "metadata": {},
   "outputs": [],
   "source": [
    "#left foot\n",
    "pos_lf, ori_lf = computePose(rmodel,rdata,lf_frame_id,q0Complete)\n",
    "rpy_lf = mat2euler(ori_lf)\n",
    "pose_lf_ref = np.concatenate([pos_lf, rpy_lf])\n",
    "#right foot\n",
    "pos_rf, ori_rf = computePose(rmodel,rdata,rf_frame_id,q0Complete)\n",
    "rpy_rf = mat2euler(ori_rf)\n",
    "pose_rf_ref = np.concatenate([pos_rf, rpy_rf])\n",
    "#left hand\n",
    "pos_lh, ori_lh = computePose(rmodel,rdata,lh_frame_id,q0Complete)\n",
    "pose_lh_ref = np.concatenate([np.array([0.3,0.2, 0.4]), np.array([0,-np.pi/2,0.])])\n",
    "#right hand\n",
    "pos_rh, ori_rh = computePose(rmodel,rdata,rh_frame_id,q0Complete)\n",
    "rpy_rh = mat2euler(ori_rh)\n",
    "pose_rh_ref = np.concatenate([pos_rh, rpy_rh])"
   ]
  },
  {
   "cell_type": "markdown",
   "metadata": {},
   "source": [
    "#### Visualize in Pybullet"
   ]
  },
  {
   "cell_type": "raw",
   "metadata": {},
   "source": [
    "_,_,lf_box_id = create_primitives(shapeType=p.GEOM_BOX, halfExtents=[0.15, 0.08, 0.03])\n",
    "_,_,rf_box_id = create_primitives(shapeType=p.GEOM_BOX, halfExtents=[ 0.15, 0.08, 0.03])\n",
    "_,_,rh_box_id = create_primitives(radius=0.05)"
   ]
  },
  {
   "cell_type": "raw",
   "metadata": {},
   "source": [
    "p.resetBasePositionAndOrientation(lf_box_id, pos_rf, (0,0,0,1))\n",
    "p.resetBasePositionAndOrientation(rf_box_id, pos_lf, (0,0,0,1))\n",
    "p.resetBasePositionAndOrientation(rh_box_id, pos_rh, (0,0,0,1))"
   ]
  },
  {
   "cell_type": "markdown",
   "metadata": {},
   "source": [
    "### Define projector & IK solver"
   ]
  },
  {
   "cell_type": "markdown",
   "metadata": {},
   "source": [
    "#### Define target poses"
   ]
  },
  {
   "cell_type": "code",
   "execution_count": 12,
   "metadata": {},
   "outputs": [],
   "source": [
    "#left foot\n",
    "w_lf = mat2w(ori_lf)\n",
    "pose_lf_ref = pin.SE3(ori_lf, pos_lf)\n",
    "#right foot\n",
    "w_rf = mat2w(ori_rf)\n",
    "pose_rf_ref = pin.SE3(ori_rf, pos_rf)\n",
    "#right hand\n",
    "w_rh = mat2w(ori_rh)\n",
    "# pose_rh_ref = pos_rh\n",
    "pose_rh_ref = pin.SE3(ori_rh, pos_rh)\n",
    "pose_rh_ref.rotation = np.array([\n",
    "    [0, -1, 0],\n",
    "    [0,0,-1],\n",
    "    [1, 0, 0]\n",
    "]) #the hand in position to grasp a can from side\n",
    "\n",
    "\n",
    "pose_lh_ref = pin.SE3(ori_lh, pos_lh)\n",
    "pose_lh_ref.rotation = np.array([\n",
    "    [0, 1, 0],\n",
    "    [0,0,1],\n",
    "    [1, 0, 0]\n",
    "]) #the hand in position to grasp a can from side"
   ]
  },
  {
   "cell_type": "markdown",
   "metadata": {},
   "source": [
    "#### Define projector & ik solver"
   ]
  },
  {
   "cell_type": "code",
   "execution_count": 13,
   "metadata": {},
   "outputs": [],
   "source": [
    "lf_cost = ResidualFrameSE3FloatingBase(rmodel, rdata, pose_lf_ref,lf_frame_id, weight=np.array([1.,1.,1.,1.,1.,1.]))\n",
    "rf_cost = ResidualFrameSE3FloatingBase(rmodel, rdata, pose_rf_ref,rf_frame_id, weight=np.array([1.,1.,1.,1.,1.,1.]))\n",
    "# rh_cost = ResidualFrameTranslationFloatingBase(rmodel, rdata, pose_rh_ref,rh_frame_id, weight=np.array([1.,1.,1.]))\n",
    "rh_cost = ResidualFrameSE3FloatingBase(rmodel, rdata, pose_rh_ref,rh_frame_id, weight=np.array([1.,1.,1.,0.,1.,1.]))\n",
    "rh_cost_project = ResidualFrameSE3FloatingBase(rmodel, rdata, pose_rh_ref,rh_frame_id, weight=np.array([0,0,0.,1.,1.,1.]))\n",
    "\n",
    "lh_cost = ResidualFrameSE3FloatingBase(rmodel, rdata, pose_lh_ref,lh_frame_id, weight=np.array([1.,1.,1.,0.,1.,1.]))\n",
    "lh_cost_project = ResidualFrameSE3FloatingBase(rmodel, rdata, pose_lh_ref,lh_frame_id, weight=np.array([0,0,0.,1.,1.,1.]))\n",
    "\n",
    "# rh_cost = ResidualFrameSE3FloatingBase(rmodel, rdata, pose_rh_ref_new,rh_frame_id, weight=np.array([1.,1.,1.,.1,0.1,.1]))\n",
    "# com_bounds = np.array([[-0.05,-0.05,0.4],[0.05, 0.05, 0.7]]) #prev\n",
    "# com_bounds = np.array([[-0.02,-0.05,0.5],[0.02, 0.05, 0.6]]) #new\n",
    "com_bounds = np.array([[-0.05,-0.05,0.65],[0.05, 0.05, 0.75]]) #new, with the updated urdf\n",
    "\n",
    "\n",
    "cost_com_bounds = ResidualCOMBounds(rmodel, rdata, com_bounds, 1e-4)\n",
    "bound_cost = ResidualBoundFloatingBase(robot_joint_limits, 1e-4)\n",
    "posture_weights = np.ones(len(pb_joint_indices)+6) \n",
    "# posture_weights[3:6] *= 1000\n",
    "posture_cost = ResidualPosture(rmodel, rdata, q0Complete, weights = posture_weights)"
   ]
  },
  {
   "cell_type": "code",
   "execution_count": 14,
   "metadata": {},
   "outputs": [],
   "source": [
    "#cost function for projection\n",
    "cost_sum = ResidualSum(rmodel, rdata, ignore_indices=[0,1,2,3,4,5,   6, 7, 8, 9, 10, 11, 19, 20, 21, 22, 23, 24])\n",
    "cost_sum.addCost(lf_cost, 20., 'lf_pose', 1e-4)\n",
    "cost_sum.addCost(rf_cost, 20.,'rf_pose', 1e-4)\n",
    "cost_sum.addCost(rh_cost_project, 20.,'rh_pose_project', 1e-4)\n",
    "cost_sum.addCost(cost_com_bounds, 100., 'com_limit', 1e-3)\n",
    "cost_sum.addCost(bound_cost, 20., 'joint_limit', 1e-3)\n",
    "\n",
    "#secondary task: posture regularization\n",
    "cost_sum2 = ResidualSum(rmodel, rdata)\n",
    "cost_sum2.addCost(posture_cost, 1. , 'posture', 1e3)\n",
    "\n",
    "robot_projector = CostProjector(cost_sum, rmodel, rdata, cost2 = cost_sum2, bounds = robot_joint_limits)"
   ]
  },
  {
   "cell_type": "code",
   "execution_count": 15,
   "metadata": {},
   "outputs": [],
   "source": [
    "#cost function for IK\n",
    "cost_sum_ik = ResidualSum(rmodel, rdata, ignore_indices=[0,1,2,3,4,5,   6, 7, 8, 9, 10, 11, 19, 20, 21, 22, 23, 24])\n",
    "cost_sum_ik.addCost(lf_cost, 20., 'lf_pose', 1e-4)\n",
    "cost_sum_ik.addCost(rf_cost, 20.,'rf_pose', 1e-4)\n",
    "cost_sum_ik.addCost(cost_com_bounds, 20., 'com_limit', 1e-3)\n",
    "cost_sum_ik.addCost(bound_cost, 20., 'joint_limit', 1e-3)\n",
    "cost_sum_ik.addCost(rh_cost, 20.,'rh_pose', 1e-3)\n",
    "\n",
    "\n",
    "cost_sum3 = ResidualSum(rmodel, rdata)\n",
    "cost_sum3.addCost(posture_cost, 1. , 'posture', 1e3)\n",
    "\n",
    "robot_ik_solver = CostProjector(cost_sum_ik, rmodel, rdata,cost2 = cost_sum3,  bounds = robot_joint_limits)"
   ]
  },
  {
   "cell_type": "markdown",
   "metadata": {},
   "source": [
    "#### Define the sampler"
   ]
  },
  {
   "cell_type": "code",
   "execution_count": 16,
   "metadata": {},
   "outputs": [],
   "source": [
    "ignore_indices=[0,1,2,3,4,5,6,    7, 8, 9, 10, 11,12,   13, 14, 15, 16, 17, 18, 19, 20, 21, 22, 23, 24, 25]"
   ]
  },
  {
   "cell_type": "code",
   "execution_count": 17,
   "metadata": {},
   "outputs": [],
   "source": [
    "#define standard sampler\n",
    "base_bound = com_bounds.copy()\n",
    "base_bound[:,-1] = np.array([1, 1.1])\n",
    "base_sampler = sampler(base_bound.copy())\n",
    "joint_sampler = sampler(robot_joint_limits[:,7:])\n",
    "rob_sampler = talos_sampler(base_sampler, np.array([0,0,0,1]), joint_sampler,  ignore_indices, q0Complete)"
   ]
  },
  {
   "cell_type": "markdown",
   "metadata": {},
   "source": [
    "#### Try sampler"
   ]
  },
  {
   "cell_type": "code",
   "execution_count": 18,
   "metadata": {
    "tags": []
   },
   "outputs": [],
   "source": [
    "q = rob_sampler.sample()[0]\n",
    "set_q_std(q)"
   ]
  },
  {
   "cell_type": "markdown",
   "metadata": {},
   "source": [
    "#### Try the projector"
   ]
  },
  {
   "cell_type": "code",
   "execution_count": 19,
   "metadata": {},
   "outputs": [],
   "source": [
    "set_q_std(q0Complete)"
   ]
  },
  {
   "cell_type": "code",
   "execution_count": 32,
   "metadata": {},
   "outputs": [
    {
     "ename": "KeyboardInterrupt",
     "evalue": "Interrupted by user",
     "output_type": "error",
     "traceback": [
      "\u001b[0;31m---------------------------------------------------------------------------\u001b[0m",
      "\u001b[0;31mKeyboardInterrupt\u001b[0m                         Traceback (most recent call last)",
      "\u001b[0;32m<ipython-input-32-0635ab258ea5>\u001b[0m in \u001b[0;36m<module>\u001b[0;34m\u001b[0m\n\u001b[1;32m      2\u001b[0m \u001b[0mres\u001b[0m \u001b[0;34m=\u001b[0m \u001b[0mrobot_projector\u001b[0m\u001b[0;34m.\u001b[0m\u001b[0mproject\u001b[0m\u001b[0;34m(\u001b[0m\u001b[0mq\u001b[0m\u001b[0;34m)\u001b[0m\u001b[0;34m\u001b[0m\u001b[0;34m\u001b[0m\u001b[0m\n\u001b[1;32m      3\u001b[0m \u001b[0mset_q_std\u001b[0m\u001b[0;34m(\u001b[0m\u001b[0mq\u001b[0m\u001b[0;34m)\u001b[0m\u001b[0;34m\u001b[0m\u001b[0;34m\u001b[0m\u001b[0m\n\u001b[0;32m----> 4\u001b[0;31m \u001b[0minput\u001b[0m\u001b[0;34m(\u001b[0m\u001b[0;34m)\u001b[0m\u001b[0;34m\u001b[0m\u001b[0;34m\u001b[0m\u001b[0m\n\u001b[0m\u001b[1;32m      5\u001b[0m \u001b[0mset_q_std\u001b[0m\u001b[0;34m(\u001b[0m\u001b[0mres\u001b[0m\u001b[0;34m[\u001b[0m\u001b[0;34m'q'\u001b[0m\u001b[0;34m]\u001b[0m\u001b[0;34m)\u001b[0m\u001b[0;34m\u001b[0m\u001b[0;34m\u001b[0m\u001b[0m\n",
      "\u001b[0;32m~/miniconda3/envs/tf3/lib/python3.9/site-packages/ipykernel/kernelbase.py\u001b[0m in \u001b[0;36mraw_input\u001b[0;34m(self, prompt)\u001b[0m\n\u001b[1;32m    858\u001b[0m                 \u001b[0;34m\"raw_input was called, but this frontend does not support input requests.\"\u001b[0m\u001b[0;34m\u001b[0m\u001b[0;34m\u001b[0m\u001b[0m\n\u001b[1;32m    859\u001b[0m             )\n\u001b[0;32m--> 860\u001b[0;31m         return self._input_request(str(prompt),\n\u001b[0m\u001b[1;32m    861\u001b[0m             \u001b[0mself\u001b[0m\u001b[0;34m.\u001b[0m\u001b[0m_parent_ident\u001b[0m\u001b[0;34m,\u001b[0m\u001b[0;34m\u001b[0m\u001b[0;34m\u001b[0m\u001b[0m\n\u001b[1;32m    862\u001b[0m             \u001b[0mself\u001b[0m\u001b[0;34m.\u001b[0m\u001b[0m_parent_header\u001b[0m\u001b[0;34m,\u001b[0m\u001b[0;34m\u001b[0m\u001b[0;34m\u001b[0m\u001b[0m\n",
      "\u001b[0;32m~/miniconda3/envs/tf3/lib/python3.9/site-packages/ipykernel/kernelbase.py\u001b[0m in \u001b[0;36m_input_request\u001b[0;34m(self, prompt, ident, parent, password)\u001b[0m\n\u001b[1;32m    902\u001b[0m             \u001b[0;32mexcept\u001b[0m \u001b[0mKeyboardInterrupt\u001b[0m\u001b[0;34m:\u001b[0m\u001b[0;34m\u001b[0m\u001b[0;34m\u001b[0m\u001b[0m\n\u001b[1;32m    903\u001b[0m                 \u001b[0;31m# re-raise KeyboardInterrupt, to truncate traceback\u001b[0m\u001b[0;34m\u001b[0m\u001b[0;34m\u001b[0m\u001b[0;34m\u001b[0m\u001b[0m\n\u001b[0;32m--> 904\u001b[0;31m                 \u001b[0;32mraise\u001b[0m \u001b[0mKeyboardInterrupt\u001b[0m\u001b[0;34m(\u001b[0m\u001b[0;34m\"Interrupted by user\"\u001b[0m\u001b[0;34m)\u001b[0m \u001b[0;32mfrom\u001b[0m \u001b[0;32mNone\u001b[0m\u001b[0;34m\u001b[0m\u001b[0;34m\u001b[0m\u001b[0m\n\u001b[0m\u001b[1;32m    905\u001b[0m             \u001b[0;32mexcept\u001b[0m \u001b[0mException\u001b[0m \u001b[0;32mas\u001b[0m \u001b[0me\u001b[0m\u001b[0;34m:\u001b[0m\u001b[0;34m\u001b[0m\u001b[0;34m\u001b[0m\u001b[0m\n\u001b[1;32m    906\u001b[0m                 \u001b[0mself\u001b[0m\u001b[0;34m.\u001b[0m\u001b[0mlog\u001b[0m\u001b[0;34m.\u001b[0m\u001b[0mwarning\u001b[0m\u001b[0;34m(\u001b[0m\u001b[0;34m\"Invalid Message:\"\u001b[0m\u001b[0;34m,\u001b[0m \u001b[0mexc_info\u001b[0m\u001b[0;34m=\u001b[0m\u001b[0;32mTrue\u001b[0m\u001b[0;34m)\u001b[0m\u001b[0;34m\u001b[0m\u001b[0;34m\u001b[0m\u001b[0m\n",
      "\u001b[0;31mKeyboardInterrupt\u001b[0m: Interrupted by user"
     ]
    }
   ],
   "source": [
    "q = rob_sampler.sample().flatten()\n",
    "res = robot_projector.project(q)\n",
    "set_q_std(q)\n",
    "input()\n",
    "set_q_std(res['q'])"
   ]
  },
  {
   "cell_type": "markdown",
   "metadata": {},
   "source": [
    "### Try the IK solver"
   ]
  },
  {
   "cell_type": "code",
   "execution_count": 21,
   "metadata": {},
   "outputs": [],
   "source": [
    "def get_ik_solution(desired_pos, solver, rob_sampler, which_hand='rh_pose'):\n",
    "    status = False\n",
    "    while status == False:\n",
    "        solver.cost.costs[which_hand].cost.desired_pose.translation = desired_pos\n",
    "\n",
    "        q = rob_sampler.sample().flatten()\n",
    "        set_q_std(q)\n",
    "        res = solver.project(q)\n",
    "        set_q_std(res['q'])\n",
    "        status = res['stat']\n",
    "    return res['q']"
   ]
  },
  {
   "cell_type": "code",
   "execution_count": 22,
   "metadata": {},
   "outputs": [],
   "source": [
    "pos_des = np.array([0.5, -0.2, 0.95])\n",
    "q_des = get_ik_solution(pos_des, robot_ik_solver, rob_sampler)"
   ]
  },
  {
   "cell_type": "raw",
   "metadata": {},
   "source": [
    "_,_,target_id = create_primitives(radius=0.04)"
   ]
  },
  {
   "cell_type": "raw",
   "metadata": {},
   "source": [
    "p.resetBasePositionAndOrientation(target_id, T_table_rot_init[:3,3], (0,0,0,1))"
   ]
  },
  {
   "cell_type": "markdown",
   "metadata": {},
   "source": [
    "## c-RRT with Talos"
   ]
  },
  {
   "cell_type": "code",
   "execution_count": 23,
   "metadata": {},
   "outputs": [],
   "source": [
    "col_ids = [shelf_id, cabinet_id, can_id]\n",
    "rob_col_checker = col_checker(robot_id, pb_joint_indices, col_ids, omit_indices=[ 50, 57], floating_base = True) #omit the collision of the plane with the feet\n",
    "rob_interpolator = interpolator()\n",
    "rrt = cRRT(rmodel.nq, rob_sampler, rob_col_checker, rob_interpolator, robot_projector)"
   ]
  },
  {
   "cell_type": "markdown",
   "metadata": {},
   "source": [
    "#### Get the initial and target config"
   ]
  },
  {
   "cell_type": "code",
   "execution_count": 24,
   "metadata": {},
   "outputs": [],
   "source": [
    "pos_init = np.array([0.18, -0.5, 0.726+0.15])\n",
    "pos_init_can = np.array([0.18, -0.5, 0.726+0.1])\n",
    "pos_goals = np.array([\n",
    "    [0.4, 0., 1.],\n",
    "#     [0.4, -0.1, 1.],\n",
    "    [0.4, -0.2, 1.],\n",
    "#     [0.4, -0.3, 1.],\n",
    "    [0.4, -0.4, 1.],\n",
    "    \n",
    "#     [0.45, -0.1, 1.],\n",
    "#     [0.45, -0.2, 1.],\n",
    "#     [0.45, -0.3, 1.],\n",
    "#     [0.45, -0.4, 1.],\n",
    "\n",
    "    [0.5, -0.2, 1.],\n",
    "#     [0.5, -0.3, 1.],\n",
    "    [0.5, -0.4, 1.],\n",
    "])"
   ]
  },
  {
   "cell_type": "code",
   "execution_count": 25,
   "metadata": {},
   "outputs": [],
   "source": [
    "q_init = get_ik_solution(pos_init,  robot_ik_solver, rob_sampler)\n",
    "q_can = get_ik_solution(pos_init_can,  robot_ik_solver, rob_sampler)"
   ]
  },
  {
   "cell_type": "code",
   "execution_count": 26,
   "metadata": {},
   "outputs": [
    {
     "name": "stdout",
     "output_type": "stream",
     "text": [
      "[0.4 0.  1. ]\n",
      "[ 0.4 -0.2  1. ]\n",
      "[ 0.4 -0.4  1. ]\n",
      "[ 0.5 -0.2  1. ]\n",
      "[ 0.5 -0.4  1. ]\n"
     ]
    }
   ],
   "source": [
    "q_goals = []\n",
    "q_goal_tables= []\n",
    "for pos_goal in pos_goals:\n",
    "    print(pos_goal)\n",
    "    q_goal = get_ik_solution(pos_goal, robot_ik_solver, rob_sampler)\n",
    "    pos_goal_table = np.copy(pos_goal)\n",
    "    pos_goal_table[2] -= 0.1\n",
    "    q_goal_table = get_ik_solution(pos_goal_table, robot_ik_solver, rob_sampler)\n",
    "\n",
    "    q_goals.append(q_goal)\n",
    "    q_goal_tables.append(q_goal_table)"
   ]
  },
  {
   "cell_type": "markdown",
   "metadata": {},
   "source": [
    "### Plan using cRRT"
   ]
  },
  {
   "cell_type": "markdown",
   "metadata": {},
   "source": [
    "#### Plan1"
   ]
  },
  {
   "cell_type": "code",
   "execution_count": 27,
   "metadata": {
    "tags": []
   },
   "outputs": [
    {
     "name": "stdout",
     "output_type": "stream",
     "text": [
      "Solution is found!\n",
      "Solution found!\n"
     ]
    }
   ],
   "source": [
    "rh_cost_project.weight = np.array([0,0,0,0,0,0])\n",
    "\n",
    "traj1, nfevs, nexts, success, retry, t, path1 = rrt.plan(q0Complete, [q_init], max_extension_steps=500)"
   ]
  },
  {
   "cell_type": "code",
   "execution_count": 28,
   "metadata": {},
   "outputs": [],
   "source": [
    "short_path1 = rrt.shortcut_path(path1)\n",
    "\n",
    "short_traj1 = rrt.interpolate_traj(short_path1, step_length = 0.02)"
   ]
  },
  {
   "cell_type": "code",
   "execution_count": 29,
   "metadata": {},
   "outputs": [],
   "source": [
    "vis_traj_std(short_traj1, dt = 0.01)"
   ]
  },
  {
   "cell_type": "markdown",
   "metadata": {},
   "source": [
    "#### Plan 2"
   ]
  },
  {
   "cell_type": "code",
   "execution_count": 30,
   "metadata": {},
   "outputs": [],
   "source": [
    "rrt.samples = [q_init, q_can]\n",
    "\n",
    "traj2 = rrt.interpolate_traj([0,1], step_length=0.02)"
   ]
  },
  {
   "cell_type": "code",
   "execution_count": 31,
   "metadata": {},
   "outputs": [],
   "source": [
    "vis_traj_std(traj2)"
   ]
  },
  {
   "cell_type": "markdown",
   "metadata": {},
   "source": [
    "#### Plan 3-4"
   ]
  },
  {
   "cell_type": "code",
   "execution_count": 35,
   "metadata": {},
   "outputs": [
    {
     "name": "stdout",
     "output_type": "stream",
     "text": [
      "Solution is found!\n",
      "Solution found!\n",
      "Solution is found!\n",
      "Solution found!\n",
      "Solution is found!\n",
      "Solution found!\n",
      "Solution is found!\n",
      "Solution found!\n",
      "Solution is found!\n",
      "Solution found!\n"
     ]
    }
   ],
   "source": [
    "rh_cost_project.weight = np.array([0,0,0,0,1,1])\n",
    "\n",
    "traj3_set = []\n",
    "traj4_set = []\n",
    "for q_goal, q_goal_table in zip(q_goals, q_goal_tables):\n",
    "    traj3, nfevs, nexts, success, retry, t, path3 = rrt.plan(q_can, [q_goal], max_extension_steps=500)\n",
    "    short_path3 = rrt.shortcut_path(path3)\n",
    "    short_traj3 = rrt.interpolate_traj(short_path3, step_length = 0.02)\n",
    "    traj3_set.append(short_traj3)\n",
    "    \n",
    "    rrt.samples = [np.copy(q_goal), np.copy(q_goal_table)]\n",
    "    traj4 = rrt.interpolate_traj([0,1], step_length=0.02)\n",
    "    traj4_set.append(traj4)"
   ]
  },
  {
   "cell_type": "code",
   "execution_count": 38,
   "metadata": {},
   "outputs": [],
   "source": [
    "idx = 1\n",
    "vis_traj_std(traj3_set[idx], dt = 0.01)\n",
    "vis_traj_std(traj4_set[idx], dt = 0.01)"
   ]
  },
  {
   "cell_type": "markdown",
   "metadata": {},
   "source": [
    "#### Concatenate"
   ]
  },
  {
   "cell_type": "code",
   "execution_count": 169,
   "metadata": {},
   "outputs": [],
   "source": [
    "traj_set = []\n",
    "i = 0\n",
    "for traj3, traj4 in zip(traj3_set, traj4_set):\n",
    "    traj = np.concatenate([short_traj1, traj2, traj3, traj4])\n",
    "    traj_set.append(traj)"
   ]
  },
  {
   "cell_type": "code",
   "execution_count": 198,
   "metadata": {},
   "outputs": [],
   "source": [
    "data = dict()\n",
    "data['trajs'] = traj_set\n",
    "data['joint_names'] = pb_joint_indices_names\n",
    "data['grasp_time'] = len(short_traj1) + len(traj2)\n",
    "np.save('data/traj_10ms.npy', data)"
   ]
  },
  {
   "cell_type": "code",
   "execution_count": 211,
   "metadata": {},
   "outputs": [],
   "source": [
    "data = np.load('data/for_zhipeng/traj_10ms.npy', allow_pickle=True)[()]\n",
    "trajs = data['trajs']"
   ]
  },
  {
   "cell_type": "raw",
   "metadata": {},
   "source": [
    "vis_traj_std(trajs[0], dt=0.02)"
   ]
  },
  {
   "cell_type": "markdown",
   "metadata": {},
   "source": [
    "### Part 2: Handover task"
   ]
  },
  {
   "cell_type": "code",
   "execution_count": 282,
   "metadata": {},
   "outputs": [],
   "source": [
    "#cost function for projection\n",
    "cost_sum_left = ResidualSum(rmodel, rdata, ignore_indices=[0,1,2,3,4,5,   6, 7, 8, 9, 10, 11, 19, 20, 21, 22, 23, 24])\n",
    "cost_sum_left.addCost(lf_cost, 20., 'lf_pose', 1e-4)\n",
    "cost_sum_left.addCost(rf_cost, 20.,'rf_pose', 1e-4)\n",
    "cost_sum_left.addCost(lh_cost_project, 20.,'lh_pose_project', 1e-4)\n",
    "cost_sum_left.addCost(cost_com_bounds, 100., 'com_limit', 1e-3)\n",
    "cost_sum_left.addCost(bound_cost, 20., 'joint_limit', 1e-3)\n",
    "\n",
    "#secondary task: posture regularization\n",
    "cost_sum_left2 = ResidualSum(rmodel, rdata)\n",
    "cost_sum_left2.addCost(posture_cost, 1. , 'posture', 1e3)\n",
    "\n",
    "robot_projector_left = CostProjector(cost_sum_left, rmodel, rdata, cost2 = cost_sum_left2, bounds = robot_joint_limits)"
   ]
  },
  {
   "cell_type": "code",
   "execution_count": 283,
   "metadata": {},
   "outputs": [],
   "source": [
    "#cost function for IK\n",
    "cost_sum_ik_left = ResidualSum(rmodel, rdata, ignore_indices=[0,1,2,3,4,5,   6, 7, 8, 9, 10, 11, 19, 20, 21, 22, 23, 24])\n",
    "cost_sum_ik_left.addCost(lf_cost, 20., 'lf_pose', 1e-4)\n",
    "cost_sum_ik_left.addCost(rf_cost, 20.,'rf_pose', 1e-4)\n",
    "cost_sum_ik_left.addCost(cost_com_bounds, 20., 'com_limit', 1e-3)\n",
    "cost_sum_ik_left.addCost(bound_cost, 20., 'joint_limit', 1e-3)\n",
    "cost_sum_ik_left.addCost(lh_cost, 20.,'lh_pose', 1e-3)\n",
    "\n",
    "\n",
    "cost_sum_ik_left3 = ResidualSum(rmodel, rdata)\n",
    "cost_sum_ik_left3.addCost(posture_cost, 1. , 'posture', 1e3)\n",
    "\n",
    "robot_ik_solver_left = CostProjector(cost_sum_ik_left, rmodel, rdata,cost2 = cost_sum_ik_left3,  bounds = robot_joint_limits)"
   ]
  },
  {
   "cell_type": "code",
   "execution_count": 284,
   "metadata": {},
   "outputs": [],
   "source": [
    "ignore_indices_left=[0,1,2,3,4,5,6,    7, 8, 9, 10, 11,12,   20, 21, 22, 23, 24, 25, 26, 27, 28, 29, 30, 31, 32]"
   ]
  },
  {
   "cell_type": "code",
   "execution_count": 325,
   "metadata": {},
   "outputs": [],
   "source": [
    "#define standard sampler\n",
    "rob_sampler_left = talos_sampler(base_sampler, np.array([0,0,0,1]), joint_sampler,  ignore_indices_left, q0Complete)\n",
    "rob_sampler_left.q_ref = np.copy(q_goals[0])"
   ]
  },
  {
   "cell_type": "code",
   "execution_count": 338,
   "metadata": {},
   "outputs": [],
   "source": [
    "q = rob_sampler_left.sample().flatten()\n",
    "res = robot_projector_left.project(q)\n",
    "set_q_std(res['q'])"
   ]
  },
  {
   "cell_type": "markdown",
   "metadata": {},
   "source": [
    "#### Get configs"
   ]
  },
  {
   "cell_type": "markdown",
   "metadata": {},
   "source": [
    "#### Step 1"
   ]
  },
  {
   "cell_type": "code",
   "execution_count": 360,
   "metadata": {},
   "outputs": [],
   "source": [
    "pos_init_left = np.copy(pos_goals[0])\n",
    "pos_init_left[2] -= 0.12\n",
    "pos_init_left[1] += 0.05"
   ]
  },
  {
   "cell_type": "code",
   "execution_count": 361,
   "metadata": {},
   "outputs": [],
   "source": [
    "q_init_left = get_ik_solution(pos_init_left, robot_ik_solver_left, rob_sampler_left, 'lh_pose')"
   ]
  },
  {
   "cell_type": "markdown",
   "metadata": {},
   "source": [
    "#### Step 2"
   ]
  },
  {
   "cell_type": "code",
   "execution_count": 347,
   "metadata": {},
   "outputs": [],
   "source": [
    "pos_goal_left2_set = np.array([[0.5, 0.3, 1],\n",
    "                          [0.45, 0.4, 1.], \n",
    "                          [0.5, 0.2, 1.]])\n",
    "q_goals_left = []\n",
    "q_goals_table_left = []\n",
    "for pos_goal_left2 in pos_goal_left2_set:\n",
    "    q = get_ik_solution(pos_goal_left2, robot_ik_solver_left, rob_sampler_left, 'lh_pose')\n",
    "    q_goals_left.append(np.copy(q))\n",
    "    \n",
    "    pos_goal_left2_table = np.copy(pos_goal_left2)\n",
    "    pos_goal_left2_table[2]-= 0.1\n",
    "    q = get_ik_solution(pos_goal_left2_table, robot_ik_solver_left, rob_sampler_left, 'lh_pose')\n",
    "    q_goals_table_left.append(np.copy(q))"
   ]
  },
  {
   "cell_type": "markdown",
   "metadata": {},
   "source": [
    "### Plan RRT"
   ]
  },
  {
   "cell_type": "code",
   "execution_count": 497,
   "metadata": {},
   "outputs": [],
   "source": [
    "_,_,cyl_id = create_primitives(p.GEOM_CYLINDER, radius = 0.025, length=0.3, rgbaColor=[0.7, 0.1, 0.,0.8])\n",
    "\n",
    "p.resetBasePositionAndOrientation(cyl_id,(0.405, 0.02, 1.) , (0,0,0,1))"
   ]
  },
  {
   "cell_type": "code",
   "execution_count": 388,
   "metadata": {},
   "outputs": [],
   "source": [
    "col_ids_left = [shelf_id, cabinet_id, can_id, cyl_id]\n",
    "rob_col_checker_left = col_checker(robot_id, pb_joint_indices, col_ids_left, omit_indices=[ 50, 57], floating_base = True) #omit the collision of the plane with the feet\n",
    "\n",
    "rrt_left = cRRT(rmodel.nq, rob_sampler_left, rob_col_checker, rob_interpolator, robot_projector_left)"
   ]
  },
  {
   "cell_type": "markdown",
   "metadata": {},
   "source": [
    "#### Step 1"
   ]
  },
  {
   "cell_type": "code",
   "execution_count": 411,
   "metadata": {
    "tags": []
   },
   "outputs": [],
   "source": [
    "lh_cost_project.weight = np.array([0,0,0,0,0,0])\n",
    "\n",
    "traj_left1, nfevs, nexts, success, retry, t, path_left1 = rrt_left.plan(q_goals[0], [q_init_left], max_extension_steps=500)"
   ]
  },
  {
   "cell_type": "code",
   "execution_count": 414,
   "metadata": {},
   "outputs": [],
   "source": [
    "short_path_left1 = rrt_left.shortcut_path(path_left1)\n",
    "\n",
    "short_traj_left1 = rrt_left.interpolate_traj(short_path_left1, step_length = 0.02)"
   ]
  },
  {
   "cell_type": "code",
   "execution_count": 412,
   "metadata": {},
   "outputs": [],
   "source": [
    "vis_traj_std(traj_left1, dt = 0.1)"
   ]
  },
  {
   "cell_type": "code",
   "execution_count": 415,
   "metadata": {},
   "outputs": [],
   "source": [
    "vis_traj_std(short_traj_left1, dt = 0.01)"
   ]
  },
  {
   "cell_type": "markdown",
   "metadata": {},
   "source": [
    "#### Step 2"
   ]
  },
  {
   "cell_type": "code",
   "execution_count": 417,
   "metadata": {
    "tags": []
   },
   "outputs": [],
   "source": [
    "lh_cost_project.weight = np.array([0,0,0,0,1,1])"
   ]
  },
  {
   "cell_type": "raw",
   "metadata": {},
   "source": [
    "traj_left2, nfevs, nexts, success, retry, t, path_left2 = rrt_left.plan(q_init_left, [q_goals_left[0]], max_extension_steps=500)\n",
    "\n",
    "short_path_left2 = rrt_left.shortcut_path(path_left2)\n",
    "\n",
    "short_traj_left2 = rrt_left.interpolate_traj(short_path_left2, step_length = 0.02)\n",
    "\n",
    "vis_traj_std(short_traj_left2, dt = 0.1)"
   ]
  },
  {
   "cell_type": "code",
   "execution_count": 438,
   "metadata": {},
   "outputs": [
    {
     "name": "stdout",
     "output_type": "stream",
     "text": [
      "Solution is found!\n",
      "Solution found!\n",
      "Solution is found!\n",
      "Solution found!\n",
      "Solution is found!\n",
      "Solution found!\n"
     ]
    }
   ],
   "source": [
    "traj2_set_left = []\n",
    "traj3_set_left = []\n",
    "for q_goal, q_goal_table in zip(q_goals_left, q_goals_table_left):\n",
    "    traj_left_2, nfevs, nexts, success, retry, t, path_left2 = rrt_left.plan(q_init_left, [q_goal], max_extension_steps=500)\n",
    "    short_path_left2 = rrt_left.shortcut_path(path_left2)\n",
    "    short_traj_left2 = rrt_left.interpolate_traj(short_path_left2, step_length = 0.02)\n",
    "    traj2_set_left.append(short_traj_left2)\n",
    "    \n",
    "    rrt_left.samples = [np.copy(q_goal), np.copy(q_goal_table)]\n",
    "    traj_left_3 = rrt_left.interpolate_traj([0,1], step_length=0.02)\n",
    "    traj3_set_left.append(traj_left_3)"
   ]
  },
  {
   "cell_type": "markdown",
   "metadata": {},
   "source": [
    "#### Concatenate"
   ]
  },
  {
   "cell_type": "code",
   "execution_count": 452,
   "metadata": {},
   "outputs": [],
   "source": [
    "#combine the three first phase in right hand movement\n",
    "# traj_left_init = traj_set[0][:-64]\n",
    "#combine simply\n",
    "traj_left_init = np.concatenate([short_traj1, traj2, traj3_set[0]])\n",
    "\n",
    "# vis_traj_std(traj_left_init, dt = 0.01)\n",
    "\n",
    "#combine with pause\n",
    "traj_set_left = []\n",
    "i = 0\n",
    "for traj2, traj3 in zip(traj2_set_left, traj3_set_left):\n",
    "    traj = np.concatenate([short_traj1, np.tile(traj2[0], (20,1)), traj2, np.tile(traj3[0], (20,1)), traj3])\n",
    "    traj_set_left.append(traj)"
   ]
  },
  {
   "cell_type": "code",
   "execution_count": 457,
   "metadata": {},
   "outputs": [],
   "source": [
    "vis_traj_std(traj_set[0], dt = 0.02)"
   ]
  },
  {
   "cell_type": "markdown",
   "metadata": {},
   "source": [
    "#### Concatenate fully (with pause)"
   ]
  },
  {
   "cell_type": "code",
   "execution_count": 503,
   "metadata": {},
   "outputs": [],
   "source": [
    "traj_left_set_full = []\n",
    "for i in range(3):\n",
    "    p.resetBasePositionAndOrientation(cyl_id, pos_can, (0,0,0,1))\n",
    "    vis_traj_std(traj_left_init[:192], dt = 0.02)\n",
    "    stop1 = np.tile(traj_left_init[192],(20,1))\n",
    "    time.sleep(0.5)\n",
    "    vis_traj_spec(traj_left_init[192:], rh_frame_id, dt = 0.02)\n",
    "    time.sleep(0.5)\n",
    "    vis_traj_std(traj_set_left[i][:204], dt = 0.02)\n",
    "    stop2 = np.tile(traj_set_left[0][204],(20,1))\n",
    "    time.sleep(0.5)\n",
    "    vis_traj_spec(traj_set_left[i][204:], lh_frame_id, offset=0.1, dt = 0.02)\n",
    "    time.sleep(1.5)\n",
    "    traj = np.concatenate([traj_left_init[:192],stop1, traj_left_init[192:],\n",
    "                          traj_set_left[i][:204], stop2, traj_set_left[i][204:] ])\n",
    "    traj_left_set_full.append(traj)"
   ]
  },
  {
   "cell_type": "markdown",
   "metadata": {},
   "source": [
    "#### Visualization"
   ]
  },
  {
   "cell_type": "code",
   "execution_count": 473,
   "metadata": {},
   "outputs": [],
   "source": [
    "def vis_traj_spec(traj, frame_id, offset = 0., dt = 0.01):\n",
    "    for q in traj:\n",
    "        set_q_std(q)\n",
    "        pos,_ = computePose(rmodel, rdata, frame_id, q)\n",
    "        pos[2] += offset\n",
    "        p.resetBasePositionAndOrientation(cyl_id, pos, (0,0,0,1))\n",
    "        time.sleep(dt)"
   ]
  },
  {
   "cell_type": "raw",
   "metadata": {},
   "source": [
    "    vis_traj_spec(traj_set_left[i][204:], lh_frame_id, offset=0.1, dt = 0.2)\n"
   ]
  },
  {
   "cell_type": "code",
   "execution_count": 518,
   "metadata": {},
   "outputs": [],
   "source": [
    "data = dict()\n",
    "data['trajs'] = traj_left_set_full\n",
    "data['joint_names'] = pb_joint_indices_names\n",
    "data['grasp_time_right'] = 192\n",
    "data['grasp_time_left'] = 593\n",
    "np.save('data/traj_10ms_handover.npy', data)"
   ]
  },
  {
   "cell_type": "code",
   "execution_count": 521,
   "metadata": {},
   "outputs": [],
   "source": [
    "data = np.load('data/traj_10ms_handover.npy', allow_pickle=True)[()]\n",
    "trajs = data['trajs']"
   ]
  },
  {
   "cell_type": "code",
   "execution_count": 522,
   "metadata": {},
   "outputs": [
    {
     "data": {
      "text/plain": [
       "573"
      ]
     },
     "execution_count": 522,
     "metadata": {},
     "output_type": "execute_result"
    }
   ],
   "source": [
    "len(traj_left_init) + 204"
   ]
  },
  {
   "cell_type": "code",
   "execution_count": 523,
   "metadata": {},
   "outputs": [],
   "source": [
    "vis_traj_std(trajs[0], dt=0.01)"
   ]
  },
  {
   "cell_type": "code",
   "execution_count": 514,
   "metadata": {},
   "outputs": [],
   "source": [
    "vis_traj_std(trajs[0][:192], dt=0.01)"
   ]
  },
  {
   "cell_type": "code",
   "execution_count": 517,
   "metadata": {},
   "outputs": [],
   "source": [
    "vis_traj_std(trajs[0][:593], dt=0.01)"
   ]
  },
  {
   "cell_type": "code",
   "execution_count": 516,
   "metadata": {},
   "outputs": [],
   "source": [
    "vis_traj_std(trajs[0][593:], dt=0.01)"
   ]
  },
  {
   "cell_type": "code",
   "execution_count": null,
   "metadata": {},
   "outputs": [],
   "source": []
  },
  {
   "cell_type": "code",
   "execution_count": null,
   "metadata": {},
   "outputs": [],
   "source": []
  },
  {
   "cell_type": "raw",
   "metadata": {},
   "source": [
    "\n",
    "\n",
    "\n",
    "\n",
    "\n",
    "\n",
    "\n",
    "\n",
    "\n",
    "\n",
    "\n",
    "\n",
    "\n",
    "\n",
    "\n",
    "\n"
   ]
  },
  {
   "cell_type": "markdown",
   "metadata": {},
   "source": [
    "# Check step by step"
   ]
  },
  {
   "cell_type": "code",
   "execution_count": 185,
   "metadata": {},
   "outputs": [],
   "source": [
    "selected_rrt = rrt"
   ]
  },
  {
   "cell_type": "markdown",
   "metadata": {},
   "source": [
    "#### Select task"
   ]
  },
  {
   "cell_type": "code",
   "execution_count": 186,
   "metadata": {},
   "outputs": [],
   "source": [
    "i = 0\n",
    "start_state = q0CompleteCabinet\n",
    "goal_states = goal_configs[0]"
   ]
  },
  {
   "cell_type": "code",
   "execution_count": 190,
   "metadata": {},
   "outputs": [],
   "source": [
    "set_q_std(start_state)"
   ]
  },
  {
   "cell_type": "code",
   "execution_count": 191,
   "metadata": {},
   "outputs": [],
   "source": [
    "set_q_std(goal_states[0])"
   ]
  },
  {
   "cell_type": "raw",
   "metadata": {},
   "source": [
    "#plan using crrt\n",
    "traj, nfevs, nexts, success, retry, t, path = selected_rrt.plan(q0Complete,goal_states, max_extension_steps=500)\n",
    "print(t, nexts)\n",
    "vis_traj_std(traj)"
   ]
  },
  {
   "cell_type": "code",
   "execution_count": 384,
   "metadata": {},
   "outputs": [],
   "source": [
    "selected_rrt.init_plan(start_state,goal_states)"
   ]
  },
  {
   "cell_type": "markdown",
   "metadata": {},
   "source": [
    "#### Pick random sample"
   ]
  },
  {
   "cell_type": "code",
   "execution_count": 451,
   "metadata": {},
   "outputs": [],
   "source": [
    "selected_rrt.random_sample, nfev = selected_rrt.sample(False)\n",
    "selected_rrt.random_sample = selected_rrt.random_sample.flatten()"
   ]
  },
  {
   "cell_type": "code",
   "execution_count": 452,
   "metadata": {},
   "outputs": [],
   "source": [
    "set_q_std(selected_rrt.random_sample)"
   ]
  },
  {
   "cell_type": "markdown",
   "metadata": {},
   "source": [
    "#### Find the nearest neighbor"
   ]
  },
  {
   "cell_type": "code",
   "execution_count": 453,
   "metadata": {},
   "outputs": [],
   "source": [
    "nearest_index, nearest_sample = selected_rrt.find_nearest(selected_rrt.random_sample, np.array(selected_rrt.samples))"
   ]
  },
  {
   "cell_type": "code",
   "execution_count": 454,
   "metadata": {},
   "outputs": [],
   "source": [
    "set_q_std(nearest_sample.flatten())"
   ]
  },
  {
   "cell_type": "markdown",
   "metadata": {},
   "source": [
    "#### Extend to the random sample"
   ]
  },
  {
   "cell_type": "code",
   "execution_count": 455,
   "metadata": {},
   "outputs": [],
   "source": [
    "selected_rrt.next_states, nfev = selected_rrt.extend(nearest_index[0], nearest_sample.flatten(), selected_rrt.random_sample.flatten(), max_increments=40)\n",
    "q_reach_a = rrt.next_states[-1]"
   ]
  },
  {
   "cell_type": "code",
   "execution_count": 456,
   "metadata": {},
   "outputs": [],
   "source": [
    "set_q_std(nearest_sample.flatten())"
   ]
  },
  {
   "cell_type": "code",
   "execution_count": 457,
   "metadata": {},
   "outputs": [],
   "source": [
    "vis_traj_std(selected_rrt.next_states)"
   ]
  },
  {
   "cell_type": "code",
   "execution_count": 458,
   "metadata": {},
   "outputs": [],
   "source": [
    "set_q_std(selected_rrt.random_sample)"
   ]
  },
  {
   "cell_type": "markdown",
   "metadata": {},
   "source": [
    "#### Find the nearest goal"
   ]
  },
  {
   "cell_type": "code",
   "execution_count": 459,
   "metadata": {},
   "outputs": [],
   "source": [
    "nearest_index, nearest_sample = selected_rrt.find_nearest(q_reach_a, np.array(selected_rrt.goal_state))\n",
    "q_goal = nearest_sample.flatten()\n",
    "set_q_std(q_goal)"
   ]
  },
  {
   "cell_type": "markdown",
   "metadata": {},
   "source": [
    "#### Extend to the nearest goal"
   ]
  },
  {
   "cell_type": "code",
   "execution_count": 460,
   "metadata": {},
   "outputs": [],
   "source": [
    "selected_rrt.next_states_goal, nfev = selected_rrt.extend(len(selected_rrt.samples) - 1, selected_rrt.next_states[-1], q_goal, max_increments=100)"
   ]
  },
  {
   "cell_type": "code",
   "execution_count": 461,
   "metadata": {},
   "outputs": [],
   "source": [
    "set_q_std(q_reach_a.flatten())"
   ]
  },
  {
   "cell_type": "code",
   "execution_count": 462,
   "metadata": {},
   "outputs": [],
   "source": [
    "vis_traj_std(selected_rrt.next_states_goal)"
   ]
  },
  {
   "cell_type": "code",
   "execution_count": 463,
   "metadata": {},
   "outputs": [],
   "source": [
    "set_q_std(selected_rrt.next_states_goal[-1])"
   ]
  },
  {
   "cell_type": "code",
   "execution_count": 432,
   "metadata": {},
   "outputs": [],
   "source": [
    "set_q_std(q_goal)"
   ]
  },
  {
   "cell_type": "code",
   "execution_count": 464,
   "metadata": {},
   "outputs": [],
   "source": [
    "set_q_std(q0Complete)"
   ]
  },
  {
   "cell_type": "code",
   "execution_count": 495,
   "metadata": {},
   "outputs": [],
   "source": [
    "q_mod = q0Complete.copy()"
   ]
  },
  {
   "cell_type": "code",
   "execution_count": 500,
   "metadata": {},
   "outputs": [],
   "source": [
    "q_mod[7+9] = 1"
   ]
  },
  {
   "cell_type": "code",
   "execution_count": 501,
   "metadata": {},
   "outputs": [],
   "source": [
    "set_q_std(q_mod)"
   ]
  },
  {
   "cell_type": "code",
   "execution_count": 504,
   "metadata": {},
   "outputs": [
    {
     "data": {
      "text/plain": [
       "(array([ 2.,  2.,  2., 18.,  8.,  7.,  6.,  7.,  0.,  3.]),\n",
       " array([-1.118 , -0.823 , -0.528 , -0.233 ,  0.062 ,  0.357 ,  0.652 ,\n",
       "         0.947 ,  1.242 ,  1.537 ,  1.8321]),\n",
       " <BarContainer object of 10 artists>)"
      ]
     },
     "execution_count": 504,
     "metadata": {},
     "output_type": "execute_result"
    },
    {
     "data": {
      "image/png": "[encoded data removed]",
      "text/plain": [
       "<Figure size 432x288 with 1 Axes>"
      ]
     },
     "metadata": {
      "needs_background": "light"
     },
     "output_type": "display_data"
    }
   ],
   "source": [
    "plt.hist(pb_data[11])"
   ]
  },
  {
   "cell_type": "markdown",
   "metadata": {},
   "source": [
    "## Check Self Collision"
   ]
  },
  {
   "cell_type": "code",
   "execution_count": 165,
   "metadata": {},
   "outputs": [],
   "source": [
    "def check_collision(robot_id, object_ids, omit_indices=[-1], verbose=True):\n",
    "    print('ChecK')\n",
    "    p.performCollisionDetection()\n",
    "    self_collision = False\n",
    "    collision = False\n",
    "    conts = p.getContactPoints(robot_id, robot_id)\n",
    "    # contact distance, positive for separation, negative for penetration\n",
    "    if len(conts) >= 1:\n",
    "        for cont in conts:\n",
    "            distance = cont[8]\n",
    "            if distance < 1e-3: # if smaller than 1 mm\n",
    "                if verbose:\n",
    "                    print(\"Robot's \", link_names[cont[3]], \" is in contact with the link \",\n",
    "                  link_names[cont[4]], \"with a contact distance of \", distance)\n",
    "                self_collision = True\n",
    "\n",
    "            if self_collision: \n",
    "                print(self_collision)\n",
    "                return self_collision or collision, None\n",
    "                \n",
    "    if not self_collision:\n",
    "        for object_id in object_ids:\n",
    "            conts = p.getContactPoints(robot_id, object_id)\n",
    "            if len(conts) >= 1:\n",
    "                for cont in conts:\n",
    "                    if cont[8] < 1e-3:\n",
    "                        collision = True\n",
    "                        print(self_collision, object_id)\n",
    "                        return self_collision or collision, None\n",
    "    return self_collision or collision, None"
   ]
  },
  {
   "cell_type": "raw",
   "metadata": {},
   "source": [
    "q_col = np.array([ 0.        ,  0.        ,  1.07      ,  0.        ,  0.        ,\n",
    "        0.        ,  1.        ,  0.        ,  0.        , -0.6       ,\n",
    "        1.        , -0.5       ,  0.        ,  0.        ,  0.        ,\n",
    "        0.        ,  0.        ,  0.        ,  0.        ,  0.        ,\n",
    "        0.        ,  0.        , -0.6       ,  1.        , -0.5       ,\n",
    "        0.        , -1.23035868, -0.32173655, -0.45940738, -2.09568668,\n",
    "       -1.65229881, -0.18919405, -0.11772667])"
   ]
  },
  {
   "cell_type": "raw",
   "metadata": {},
   "source": [
    "check_collision(robot_id, col_ids[1:])"
   ]
  }
 ],
 "metadata": {
  "anaconda-cloud": {},
  "hide_input": false,
  "kernelspec": {
   "display_name": "Python 3",
   "language": "python",
   "name": "python3"
  },
  "language_info": {
   "codemirror_mode": {
    "name": "ipython",
    "version": 3
   },
   "file_extension": ".py",
   "mimetype": "text/x-python",
   "name": "python",
   "nbconvert_exporter": "python",
   "pygments_lexer": "ipython3",
   "version": "3.9.5"
  },
  "latex_envs": {
   "bibliofile": "biblio.bib",
   "cite_by": "apalike",
   "current_citInitial": 1,
   "eqLabelWithNumbers": true,
   "eqNumInitial": 0
  }
 },
 "nbformat": 4,
 "nbformat_minor": 4
}

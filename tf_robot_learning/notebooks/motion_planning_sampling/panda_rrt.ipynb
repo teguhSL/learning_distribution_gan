{
 "cells": [
  {
   "cell_type": "markdown",
   "metadata": {},
   "source": [
    "# Panda Example"
   ]
  },
  {
   "cell_type": "code",
   "execution_count": 1,
   "metadata": {
    "scrolled": true
   },
   "outputs": [],
   "source": [
    "import sys\n",
    "sys.path.append('lib')\n",
    "\n",
    "import scipy\n",
    "import matplotlib\n",
    "import matplotlib.pyplot as plt\n",
    "import numpy as np\n",
    "import time, os\n",
    "from IPython.display import clear_output\n",
    "from IPython.core import display\n",
    "\n",
    "import pybullet as p\n",
    "import pybullet_data\n",
    "import pinocchio as pin\n",
    "\n",
    "from pb_utils.kine import get_joint_limits, check_joint_limits\n",
    "from pb_utils.visualize import set_q, vis_traj, create_primitives\n",
    "from pin_utils.pin_utils import computeJacobian, computePose\n",
    "\n",
    "from residuals import ResidualFrameTranslationFloatingBase, ResidualFrameRotationSE3FloatingBase, ResidualBound, \\\n",
    "                        ResidualPosture, ResidualSum, ResidualStructure, CostProjector, clip_bounds\n",
    "from motion_planning import sampler\n",
    "from panda_config import pb_joint_indices\n",
    "from functools import partial\n",
    "from motion_planning import cRRT\n",
    "DATA_PATH = '../../data'\n",
    "robot_urdf = DATA_PATH + '/urdf/panda_arm.urdf'\n",
    "\n",
    "%load_ext autoreload\n",
    "%autoreload 2\n",
    "\n",
    "np.set_printoptions(precision=4, suppress=True)"
   ]
  },
  {
   "cell_type": "markdown",
   "metadata": {},
   "source": [
    "### Setup Pybullet"
   ]
  },
  {
   "cell_type": "code",
   "execution_count": 2,
   "metadata": {},
   "outputs": [],
   "source": [
    "physics_client_id = p.connect(p.GUI)\n",
    "p.setPhysicsEngineParameter(enableFileCaching=0)\n",
    "p.setAdditionalSearchPath(pybullet_data.getDataPath())\n",
    "p.configureDebugVisualizer(p.COV_ENABLE_GUI,0)"
   ]
  },
  {
   "cell_type": "code",
   "execution_count": 3,
   "metadata": {},
   "outputs": [],
   "source": [
    "p.resetSimulation()"
   ]
  },
  {
   "cell_type": "markdown",
   "metadata": {},
   "source": [
    "### Setup Robot & environment"
   ]
  },
  {
   "cell_type": "code",
   "execution_count": 4,
   "metadata": {},
   "outputs": [],
   "source": [
    "robot_id = p.loadURDF(fileName=robot_urdf)\n",
    "dof = p.getNumJoints(robot_id)\n",
    "pb_joint_indices = np.arange(7)\n",
    "joint_limits = get_joint_limits(robot_id,pb_joint_indices)\n",
    "mean_pose = 0.5*(joint_limits[0]+joint_limits[1])\n",
    "\n",
    "plane_id = p.loadURDF('plane.urdf')\n",
    "p.resetBasePositionAndOrientation(plane_id, (0,0,-.5), (0,0,0,1))\n",
    "\n",
    "table_square_id = p.loadURDF('table_square/table_square.urdf')\n",
    "p.resetBasePositionAndOrientation(table_square_id, (0.,0,-0.64), (0, 0, 0.7071068, 0.7071068))\n",
    "\n",
    "table_id = p.loadURDF('table/table.urdf')\n",
    "p.resetBasePositionAndOrientation(table_id, (.7,0,-0.5), (0, 0, 0.7071068, 0.7071068))\n",
    "\n",
    "shelf_urdf = DATA_PATH + '/urdf/bookshelf_simple_collision.urdf'\n",
    "shelf_id = p.loadURDF(fileName=shelf_urdf)\n",
    "p.resetBasePositionAndOrientation(shelf_id, (-0.6,0.6,-0.5), (0, 0, 0, 1.))\n",
    "\n",
    "#for visualizing the desired target\n",
    "_,_,ball_id = create_primitives(radius=0.05)"
   ]
  },
  {
   "cell_type": "markdown",
   "metadata": {},
   "source": [
    "### Load model in pinocchio"
   ]
  },
  {
   "cell_type": "code",
   "execution_count": 5,
   "metadata": {},
   "outputs": [],
   "source": [
    "rmodel = pin.buildModelFromUrdf(robot_urdf)\n",
    "rdata = rmodel.createData()\n",
    "\n",
    "pin_frame_names = [f.name for f in rmodel.frames]\n",
    "ee_frame_id = rmodel.getFrameId('panda_hand2')"
   ]
  },
  {
   "cell_type": "markdown",
   "metadata": {},
   "source": [
    "#### Define standard functions"
   ]
  },
  {
   "cell_type": "code",
   "execution_count": 6,
   "metadata": {},
   "outputs": [],
   "source": [
    "computeJacobian_std = partial(computeJacobian, rmodel, rdata, ee_frame_id)\n",
    "computePose_std = partial(computePose, rmodel, rdata, ee_frame_id)\n",
    "set_q_std = partial(set_q,robot_id=robot_id, joint_indices=pb_joint_indices)"
   ]
  },
  {
   "cell_type": "markdown",
   "metadata": {},
   "source": [
    "***"
   ]
  },
  {
   "cell_type": "markdown",
   "metadata": {},
   "source": [
    "## Using Cost Model for projection"
   ]
  },
  {
   "cell_type": "code",
   "execution_count": 7,
   "metadata": {},
   "outputs": [],
   "source": [
    "from pb_utils.transform import w2mat"
   ]
  },
  {
   "cell_type": "code",
   "execution_count": 8,
   "metadata": {},
   "outputs": [],
   "source": [
    "rotation_ik = np.eye(3) #desired orientation matrix\n",
    "rotation_ik_shelf = w2mat((0,0,np.pi/2))\n",
    "rotation_ik_table = w2mat((0,0,0))\n",
    "pose_cost = ResidualFrameTranslationFloatingBase(rmodel, rdata, np.zeros(3), ee_frame_id, weight=np.array([1.,1.,1.]))\n",
    "ori_cost = ResidualFrameRotationSE3FloatingBase(rmodel, rdata, rotation_ik, ee_frame_id, weight=np.array([1.,1.,0.]))\n",
    "ori_cost_shelf = ResidualFrameRotationSE3FloatingBase(rmodel, rdata, rotation_ik_shelf, ee_frame_id, weight=np.array([1.,1.,1.]))\n",
    "ori_cost_table = ResidualFrameRotationSE3FloatingBase(rmodel, rdata, rotation_ik_table, ee_frame_id, weight=np.array([1.,1.,1.]))\n",
    "bound_cost = ResidualBound(joint_limits, 1e-4)\n",
    "posture_cost = ResidualPosture(rmodel, rdata, mean_pose)"
   ]
  },
  {
   "cell_type": "code",
   "execution_count": 238,
   "metadata": {},
   "outputs": [],
   "source": [
    "#for projection\n",
    "cost_sum = ResidualSum(rmodel, rdata)\n",
    "cost_sum.addCost(ori_cost, 20., 'ori_cost', 1e-4)\n",
    "cost_sum.addCost(bound_cost, 20., 'joint_limit', 1e-3)\n",
    "\n",
    "#for IK with horizontal gripper constraint\n",
    "cost_sum_ik = ResidualSum(rmodel, rdata)\n",
    "cost_sum_ik.addCost(pose_cost,50., 'pose_cost', 1e-3)\n",
    "cost_sum_ik.addCost(ori_cost, 30., 'ori_cost', 1e-3)\n",
    "cost_sum_ik.addCost(bound_cost, 30., 'joint_limit', 1e-3)\n",
    "\n",
    "#for IK with gripper facing the shelf\n",
    "cost_sum_ik_shelf = ResidualSum(rmodel, rdata)\n",
    "cost_sum_ik_shelf.addCost(pose_cost,50., 'pose_cost', 1e-3)\n",
    "cost_sum_ik_shelf.addCost(ori_cost_shelf, 30., 'ori_cost', 1e-3)\n",
    "cost_sum_ik_shelf.addCost(bound_cost, 30., 'joint_limit', 1e-3)\n",
    "\n",
    "#for IK with gripper facing the table\n",
    "cost_sum_ik_table = ResidualSum(rmodel, rdata)\n",
    "cost_sum_ik_table.addCost(pose_cost,50., 'pose_cost', 1e-3)\n",
    "cost_sum_ik_table.addCost(ori_cost_table, 30., 'ori_cost', 1e-3)\n",
    "cost_sum_ik_table.addCost(bound_cost, 30., 'joint_limit', 1e-3)\n",
    "\n",
    "#secondary task: posture regularization\n",
    "cost_sum2 = ResidualSum(rmodel, rdata)\n",
    "cost_sum2.addCost(posture_cost, 1. , 'posture', 1e3)\n",
    "\n",
    "robot_projector = CostProjector(cost_sum, rmodel, rdata, cost2 = cost_sum2,bounds = joint_limits)\n",
    "robot_ik_solver = CostProjector(cost_sum_ik, rmodel, rdata, bounds = joint_limits)\n",
    "robot_ik_solver_shelf = CostProjector(cost_sum_ik_shelf, rmodel, rdata, cost2 = cost_sum2, bounds = joint_limits)\n",
    "robot_ik_solver_table = CostProjector(cost_sum_ik_table, rmodel, rdata, cost2 = cost_sum2, bounds = joint_limits)"
   ]
  },
  {
   "cell_type": "markdown",
   "metadata": {},
   "source": [
    "### Define the sampler"
   ]
  },
  {
   "cell_type": "code",
   "execution_count": 136,
   "metadata": {},
   "outputs": [],
   "source": [
    "from motion_planning import sampler, col_checker, interpolator"
   ]
  },
  {
   "cell_type": "code",
   "execution_count": 137,
   "metadata": {},
   "outputs": [],
   "source": [
    "workspace_area = np.array([[-0.6, -0.6 , -0.1], [0.6, 0.6, 1.0]])\n",
    "#workspace_area = np.array([[-0.8, -0.8 , 0.1], [0.8, 0.8, 1.0]])\n",
    "target_sampler = sampler(workspace_area)\n",
    "rob_simple_sampler = sampler(joint_limits)\n",
    "rob_col_checker = col_checker(robot_id, pb_joint_indices, [ plane_id, shelf_id, table_id, table_square_id])\n",
    "rob_interpolator = interpolator()"
   ]
  },
  {
   "cell_type": "markdown",
   "metadata": {},
   "source": [
    "#### Try the projection operator"
   ]
  },
  {
   "cell_type": "code",
   "execution_count": 138,
   "metadata": {},
   "outputs": [],
   "source": [
    "q = rob_simple_sampler.sample().flatten()\n",
    "res = robot_projector.project(q)\n",
    "q, success, func_calls = res['q'], res['stat'], res['nfev']\n",
    "set_q_std(q)"
   ]
  },
  {
   "cell_type": "code",
   "execution_count": 139,
   "metadata": {},
   "outputs": [],
   "source": [
    "is_collide = True\n",
    "while is_collide is True:\n",
    "    q = rob_simple_sampler.sample().flatten()\n",
    "    res = robot_projector.project(q)\n",
    "    q, success, func_calls = res['q'], res['stat'], res['nfev']\n",
    "    is_collide = rob_col_checker.check_collision(q)\n",
    "set_q_std(q.flatten())"
   ]
  },
  {
   "cell_type": "markdown",
   "metadata": {},
   "source": [
    "#### Compare IK"
   ]
  },
  {
   "cell_type": "code",
   "execution_count": 140,
   "metadata": {},
   "outputs": [],
   "source": [
    "ik_workspace_area = np.array([[0.4, -0.5 , 0.5], [0.7, 0.5, .8]])\n",
    "ik_target_sampler = sampler(ik_workspace_area)\n",
    "goal_poses = ik_target_sampler.sample(1000)\n",
    "for i in range(len(goal_poses)):\n",
    "    goal_poses[i] = clip_bounds(goal_poses[i], ik_workspace_area)\n",
    "# qs = rob_gan_sampler.sample(N=1000, _targets=goal_poses, var = 0.01)\n",
    "qs = rob_simple_sampler.sample(N=1000)"
   ]
  },
  {
   "cell_type": "markdown",
   "metadata": {},
   "source": [
    "#### Try IK"
   ]
  },
  {
   "cell_type": "code",
   "execution_count": 141,
   "metadata": {},
   "outputs": [
    {
     "name": "stdout",
     "output_type": "stream",
     "text": [
      "Likely to fail\n",
      "False\n"
     ]
    }
   ],
   "source": [
    "idx = np.random.randint(1000)\n",
    "goal_pos = goal_poses[idx]\n",
    "if np.linalg.norm(goal_pos[:2]) < 0.3:\n",
    "    print('Likely to fail')\n",
    "\n",
    "if np.linalg.norm(goal_pos) > 0.8:\n",
    "    print('Likely to fail')\n",
    "    \n",
    "p.resetBasePositionAndOrientation(ball_id, goal_pos, np.array([0,0,0,1]))\n",
    "\n",
    "robot_ik_solver.cost.costs['pose_cost'].cost.desired_pose = goal_pos\n",
    "q = qs[idx]\n",
    "#q = rob_simple_sampler.sample().flatten()\n",
    "set_q_std(q)\n",
    "\n",
    "res = robot_ik_solver.project(q, maxiter = 100)\n",
    "print(res['stat'])\n",
    "set_q_std(res['q'])"
   ]
  },
  {
   "cell_type": "markdown",
   "metadata": {},
   "source": [
    "## Setup different RRTs"
   ]
  },
  {
   "cell_type": "code",
   "execution_count": 142,
   "metadata": {},
   "outputs": [],
   "source": [
    "class simple_goal():\n",
    "    def __init__(self, sampler, projector_pose, x_goal):\n",
    "        self.projector_pose = projector_pose\n",
    "        self.sampler = sampler\n",
    "        self.x_goal = x_goal\n",
    "        \n",
    "    def check(self, q):\n",
    "        pos, ori = computePose_std(q)\n",
    "        if np.linalg.norm(pos - x_goal) < self.g_tol:\n",
    "            return True\n",
    "        return False\n",
    "    \n",
    "    def sample(self):\n",
    "        sample = self.sampler.sample()\n",
    "        self.projector_pose.cost.costs['pose_cost'].cost.desired_pose[:3] = self.x_goal\n",
    "        res = self.projector_pose.project(sample.flatten())\n",
    "        proj_sample, cost, success = res['q'], res['feval'], res['stat']\n",
    "        return proj_sample, success"
   ]
  },
  {
   "cell_type": "code",
   "execution_count": 143,
   "metadata": {},
   "outputs": [],
   "source": [
    "def sample_valid_q():\n",
    "    is_collide = True\n",
    "    status = False\n",
    "    while is_collide is True or status is False:\n",
    "        q = rob_simple_sampler.sample().flatten()\n",
    "        res = robot_projector.project(q)\n",
    "        q, status, func_calls_  = res['q'], res['stat'], res['nfev']\n",
    "        is_collide = rob_col_checker.check_collision(q.flatten())\n",
    "        \n",
    "    return q.flatten()"
   ]
  },
  {
   "cell_type": "code",
   "execution_count": 144,
   "metadata": {},
   "outputs": [],
   "source": [
    "def sample_goal_states(N, goal):\n",
    "    q_goals = []\n",
    "\n",
    "    for i in range(N):\n",
    "        while(1):\n",
    "            q_goal, success = goal.sample()\n",
    "            if success and rob_col_checker.check_collision(q_goal) is False:\n",
    "                q_goals += [q_goal]\n",
    "                break\n",
    "                \n",
    "    return q_goals"
   ]
  },
  {
   "cell_type": "code",
   "execution_count": 145,
   "metadata": {},
   "outputs": [],
   "source": []
  },
  {
   "cell_type": "code",
   "execution_count": 146,
   "metadata": {},
   "outputs": [],
   "source": [
    "standard_rrt =cRRT(7, rob_simple_sampler,  rob_col_checker, rob_interpolator, robot_projector)"
   ]
  },
  {
   "cell_type": "markdown",
   "metadata": {},
   "source": [
    "### Perform N Tasks to compare the runtime of RRTs"
   ]
  },
  {
   "cell_type": "code",
   "execution_count": 147,
   "metadata": {},
   "outputs": [],
   "source": [
    "x_goal_bottom_left = np.array([-0.4, 0.65, 0.2])\n",
    "x_goal_top_left = np.array([-0.4, 0.65, 0.54])\n",
    "x_goal_bottom_right = np.array([-0.02, 0.65, 0.2])\n",
    "x_goal_top_right = np.array([-0.02, 0.65, 0.54])\n",
    "\n",
    "x_goals = []\n",
    "x_goals += [x_goal_bottom_left]\n",
    "x_goals += [x_goal_top_left]\n",
    "x_goals += [x_goal_bottom_right]\n",
    "x_goals += [x_goal_top_right]\n",
    "\n",
    "x_inits = np.array([[0.5, -0.25, 0.2],\n",
    "                    [0.5, 0.25, 0.2],\n",
    "                    [0.7, -0.25, 0.2],\n",
    "                    [0.7, 0.25, 0.2]])\n",
    "\n",
    "N = 2\n",
    "p_goal = 0.5\n",
    "p_random_hybrid = 0.2\n",
    "p_random_gan = 0.0\n",
    "p_random_uniform = 1.0\n",
    "max_extension_steps = 500"
   ]
  },
  {
   "cell_type": "code",
   "execution_count": 148,
   "metadata": {},
   "outputs": [],
   "source": [
    "import time"
   ]
  },
  {
   "cell_type": "code",
   "execution_count": 273,
   "metadata": {
    "scrolled": true
   },
   "outputs": [
    {
     "name": "stdout",
     "output_type": "stream",
     "text": [
      "Uniform...\n",
      "Solution is found!\n",
      "Solution found!\n"
     ]
    }
   ],
   "source": [
    "rob_simple_init = simple_goal(rob_simple_sampler, robot_ik_solver_table, x_inits[np.random.randint(4)])\n",
    "q_init = sample_goal_states(1, rob_simple_init)[0]\n",
    "\n",
    "rand_idx = np.random.randint(4)\n",
    "rob_simple_goal = simple_goal(rob_simple_sampler, robot_ik_solver_shelf, x_goals[rand_idx])\n",
    "q_goals = sample_goal_states(10, rob_simple_goal)\n",
    "print('Uniform...')    \n",
    "traj, proj_iter, ext_steps, success, n_retry, t , path = standard_rrt.plan(q_init, q_goals,max_extension_steps=500) "
   ]
  },
  {
   "cell_type": "code",
   "execution_count": 274,
   "metadata": {},
   "outputs": [],
   "source": [
    "short_path = standard_rrt.shortcut_path(path, step_length=0.05)\n",
    "\n",
    "short_traj = standard_rrt.interpolate_traj(short_path, step_length=0.05)"
   ]
  },
  {
   "cell_type": "code",
   "execution_count": 275,
   "metadata": {},
   "outputs": [],
   "source": [
    "vis_traj(short_traj, set_q_std, 0.02)"
   ]
  }
 ],
 "metadata": {
  "kernelspec": {
   "display_name": "Python 3",
   "language": "python",
   "name": "python3"
  },
  "language_info": {
   "codemirror_mode": {
    "name": "ipython",
    "version": 3
   },
   "file_extension": ".py",
   "mimetype": "text/x-python",
   "name": "python",
   "nbconvert_exporter": "python",
   "pygments_lexer": "ipython3",
   "version": "3.9.5"
  }
 },
 "nbformat": 4,
 "nbformat_minor": 4
}

{
 "cells": [
  {
   "cell_type": "code",
   "execution_count": 5,
   "metadata": {},
   "outputs": [],
   "source": [
    "import tensorflow as tf\n",
    "import numpy as np\n",
    "from tensorflow.keras.models import Sequential\n",
    "from tensorflow.keras.layers import Dense\n",
    "from scipy.stats import multivariate_normal as mvn\n",
    "import matplotlib.pyplot as plt"
   ]
  },
  {
   "cell_type": "raw",
   "metadata": {},
   "source": [
    "dist = mvn(mean = np.array([2,3]), cov = np.diag([3,0.01]))\n",
    "\n",
    "samples = dist.rvs(50000)\n",
    "plt.plot(samples[:,0], samples[:,1], '*')\n",
    "plt.axis('equal')"
   ]
  },
  {
   "cell_type": "code",
   "execution_count": 7,
   "metadata": {},
   "outputs": [
    {
     "data": {
      "text/plain": [
       "[<matplotlib.lines.Line2D at 0x7f576c847c10>]"
      ]
     },
     "execution_count": 7,
     "metadata": {},
     "output_type": "execute_result"
    },
    {
     "data": {
      "image/png": "[encoded data removed]",
      "text/plain": [
       "<Figure size 432x288 with 1 Axes>"
      ]
     },
     "metadata": {
      "needs_background": "light"
     },
     "output_type": "display_data"
    }
   ],
   "source": [
    "N = 50000\n",
    "N = 50000\n",
    "x_dim = 1\n",
    "y_dim = 1\n",
    "noise_std_true = 0.5\n",
    "x = np.linspace(-10., 100., N)[None].T\n",
    "x = np.float32(x)\n",
    "b_true = np.random.randn(y_dim).astype(np.float32)   \n",
    "w_true = np.random.randn(x_dim, y_dim).astype(np.float32) \n",
    "\n",
    "noise = noise_std_true * np.random.randn(N,y_dim).astype(np.float32)\n",
    "y = np.matmul((x-50)**2, w_true)/100. + b_true + noise\n",
    "x = x - np.mean(x)\n",
    "x /= np.std(x)\n",
    "y = y - np.mean(y)\n",
    "y /= np.std(y)\n",
    "plt.plot(x, y)"
   ]
  },
  {
   "cell_type": "code",
   "execution_count": 8,
   "metadata": {},
   "outputs": [],
   "source": [
    "samples = np.hstack([x, y])"
   ]
  },
  {
   "cell_type": "code",
   "execution_count": 9,
   "metadata": {},
   "outputs": [],
   "source": [
    "Dx = 2"
   ]
  },
  {
   "cell_type": "code",
   "execution_count": 10,
   "metadata": {},
   "outputs": [],
   "source": [
    "def sample_batch(batch_size = 32):\n",
    "    idx = np.random.randint(low = 0, high = 50000, size = batch_size)\n",
    "    return samples[idx]"
   ]
  },
  {
   "cell_type": "markdown",
   "metadata": {},
   "source": [
    "#### Define generator"
   ]
  },
  {
   "cell_type": "code",
   "execution_count": 11,
   "metadata": {},
   "outputs": [],
   "source": [
    "z_dim = 10"
   ]
  },
  {
   "cell_type": "code",
   "execution_count": 20,
   "metadata": {},
   "outputs": [],
   "source": [
    "generator = Sequential([\n",
    "    Dense(200, 'relu', kernel_initializer='glorot_uniform', bias_initializer='ones',input_shape=(z_dim,)), \n",
    "    Dense(200, 'relu',kernel_initializer='glorot_uniform', bias_initializer='ones'), \n",
    "    Dense(Dx, 'relu', kernel_initializer='glorot_uniform', bias_initializer='ones')\n",
    "])"
   ]
  },
  {
   "cell_type": "markdown",
   "metadata": {},
   "source": [
    "#### Define discriminator"
   ]
  },
  {
   "cell_type": "code",
   "execution_count": 13,
   "metadata": {},
   "outputs": [],
   "source": [
    "discriminator = Sequential([\n",
    "    Dense(200, 'relu',kernel_initializer='glorot_uniform', bias_initializer='ones', input_shape=(Dx,)),\n",
    "    Dense(200, 'relu',kernel_initializer='glorot_uniform', bias_initializer='ones',),\n",
    "    Dense(1, 'relu',kernel_initializer='glorot_uniform', bias_initializer='ones',)\n",
    "])"
   ]
  },
  {
   "cell_type": "raw",
   "metadata": {},
   "source": [
    "from neural_network import *"
   ]
  },
  {
   "cell_type": "raw",
   "metadata": {},
   "source": [
    "generator  = MLP([z_dim] + [100,100] + [Dx], batch_size=1)\n",
    "discriminator = MLP([Dx] + [100,100] + [1], batch_size=1)"
   ]
  },
  {
   "cell_type": "markdown",
   "metadata": {},
   "source": [
    "#### Define the training functions"
   ]
  },
  {
   "cell_type": "code",
   "execution_count": 14,
   "metadata": {},
   "outputs": [
    {
     "name": "stderr",
     "output_type": "stream",
     "text": [
      "/home/teguh/miniconda3/envs/tf3/lib/python3.9/site-packages/tensorflow/python/keras/optimizer_v2/optimizer_v2.py:374: UserWarning: The `lr` argument is deprecated, use `learning_rate` instead.\n",
      "  warnings.warn(\n"
     ]
    }
   ],
   "source": [
    "optimizer_gen = tf.keras.optimizers.RMSprop(lr=0.00005)\n",
    "optimizer_disc = tf.keras.optimizers.RMSprop(lr=0.00005)"
   ]
  },
  {
   "cell_type": "code",
   "execution_count": 15,
   "metadata": {},
   "outputs": [],
   "source": [
    "from IPython.core import display\n"
   ]
  },
  {
   "cell_type": "raw",
   "metadata": {},
   "source": [
    "@tf.function\n",
    "def train_discriminator(x_real, x_fake):\n",
    "    n = x_real.shape[0]\n",
    "    with tf.GradientTape() as tape:\n",
    "        loss = -tf.reduce_mean(discriminator(x_real) - discriminator(x_fake))\n",
    "        \n",
    "    gradients = tape.gradient(loss, discriminator.trainable_variables)\n",
    "    optimizer_disc.apply_gradients(zip(gradients, discriminator.trainable_variables))\n",
    "    for i, weights in enumerate(discriminator.trainable_variables):\n",
    "        discriminator.trainable_variables[i].assign(tf.clip_by_value(weights, -0.01, 0.01))\n",
    "    return loss, gradients"
   ]
  },
  {
   "cell_type": "raw",
   "metadata": {},
   "source": [
    "@tf.function\n",
    "def train_generator(z):\n",
    "    n = z.shape[0]\n",
    "    with tf.GradientTape() as tape:\n",
    "        x_fake = generator(z)\n",
    "        loss = - tf.reduce_mean(discriminator(x_fake))\n",
    "        \n",
    "    gradients = tape.gradient(loss, generator.trainable_variables)\n",
    "    optimizer_gen.apply_gradients(zip(gradients, generator.trainable_variables))\n",
    "    return loss, gradients"
   ]
  },
  {
   "cell_type": "code",
   "execution_count": 16,
   "metadata": {},
   "outputs": [],
   "source": [
    "@tf.function\n",
    "def train_discriminator(x_real, x_fake):\n",
    "    n = x_real.shape[0]\n",
    "    with tf.GradientTape() as tape:\n",
    "        loss = -tf.reduce_mean(discriminator.forward_pass(x_real)[0]- discriminator.forward_pass(x_fake)[0])\n",
    "        \n",
    "    gradients = tape.gradient(loss, discriminator.trainable_variables)\n",
    "    optimizer_disc.apply_gradients(zip(gradients, discriminator.trainable_variables))\n",
    "    for i, weights in enumerate(discriminator.trainable_variables):\n",
    "        discriminator.trainable_variables[i].assign(tf.clip_by_value(weights, -0.01, 0.01))\n",
    "    return loss, gradients"
   ]
  },
  {
   "cell_type": "code",
   "execution_count": 17,
   "metadata": {},
   "outputs": [],
   "source": [
    "@tf.function\n",
    "def train_generator(z):\n",
    "    n = z.shape[0]\n",
    "    with tf.GradientTape() as tape:\n",
    "        x_fake = generator.forward_pass(z)[0]\n",
    "        loss = - tf.reduce_mean(discriminator.forward_pass(x_fake)[0])\n",
    "        \n",
    "    gradients = tape.gradient(loss, generator.trainable_variables)\n",
    "    optimizer_gen.apply_gradients(zip(gradients, generator.trainable_variables))\n",
    "    return loss, gradients"
   ]
  },
  {
   "cell_type": "code",
   "execution_count": 18,
   "metadata": {},
   "outputs": [],
   "source": [
    "batch = 64"
   ]
  },
  {
   "cell_type": "code",
   "execution_count": 19,
   "metadata": {
    "scrolled": true
   },
   "outputs": [
    {
     "ename": "AttributeError",
     "evalue": "'Sequential' object has no attribute 'forward_pass'",
     "output_type": "error",
     "traceback": [
      "\u001b[0;31m---------------------------------------------------------------------------\u001b[0m",
      "\u001b[0;31mAttributeError\u001b[0m                            Traceback (most recent call last)",
      "\u001b[0;32m<ipython-input-19-7434fc14024b>\u001b[0m in \u001b[0;36m<module>\u001b[0;34m\u001b[0m\n\u001b[1;32m     13\u001b[0m             \u001b[0mx_real\u001b[0m \u001b[0;34m=\u001b[0m \u001b[0msample_batch\u001b[0m\u001b[0;34m(\u001b[0m\u001b[0mbatch\u001b[0m\u001b[0;34m)\u001b[0m\u001b[0;34m\u001b[0m\u001b[0;34m\u001b[0m\u001b[0m\n\u001b[1;32m     14\u001b[0m             \u001b[0mz\u001b[0m \u001b[0;34m=\u001b[0m \u001b[0mtf\u001b[0m\u001b[0;34m.\u001b[0m\u001b[0mrandom\u001b[0m\u001b[0;34m.\u001b[0m\u001b[0mnormal\u001b[0m\u001b[0;34m(\u001b[0m\u001b[0;34m(\u001b[0m\u001b[0mbatch\u001b[0m\u001b[0;34m,\u001b[0m \u001b[0mz_dim\u001b[0m\u001b[0;34m)\u001b[0m\u001b[0;34m)\u001b[0m\u001b[0;34m\u001b[0m\u001b[0;34m\u001b[0m\u001b[0m\n\u001b[0;32m---> 15\u001b[0;31m             \u001b[0mx_fake\u001b[0m \u001b[0;34m=\u001b[0m \u001b[0mgenerator\u001b[0m\u001b[0;34m.\u001b[0m\u001b[0mforward_pass\u001b[0m\u001b[0;34m(\u001b[0m\u001b[0mz\u001b[0m\u001b[0;34m)\u001b[0m\u001b[0;34m[\u001b[0m\u001b[0;36m0\u001b[0m\u001b[0;34m]\u001b[0m\u001b[0;34m\u001b[0m\u001b[0;34m\u001b[0m\u001b[0m\n\u001b[0m\u001b[1;32m     16\u001b[0m             \u001b[0mloss_disc\u001b[0m\u001b[0;34m,\u001b[0m \u001b[0mgrad_disc\u001b[0m \u001b[0;34m=\u001b[0m \u001b[0mtrain_discriminator\u001b[0m\u001b[0;34m(\u001b[0m\u001b[0mx_real\u001b[0m\u001b[0;34m,\u001b[0m \u001b[0mx_fake\u001b[0m\u001b[0;34m)\u001b[0m\u001b[0;34m\u001b[0m\u001b[0;34m\u001b[0m\u001b[0m\n\u001b[1;32m     17\u001b[0m \u001b[0;34m\u001b[0m\u001b[0m\n",
      "\u001b[0;31mAttributeError\u001b[0m: 'Sequential' object has no attribute 'forward_pass'"
     ]
    }
   ],
   "source": [
    "plotting = True\n",
    "avgs_real = []\n",
    "avgs_fake = []\n",
    "for epoch in range(100000):\n",
    "    try:\n",
    "        if epoch < 25 or epoch % 500 == 0:\n",
    "            n_critic = 100\n",
    "        else:\n",
    "            n_critic = 5\n",
    "\n",
    "        #train discriminator\n",
    "        for i in range(n_critic):\n",
    "            x_real = sample_batch(batch)\n",
    "            z = tf.random.normal((batch, z_dim))\n",
    "            x_fake = generator.forward_pass(z)[0]\n",
    "            loss_disc, grad_disc = train_discriminator(x_real, x_fake)\n",
    "\n",
    "        #train generator\n",
    "        z = tf.random.normal((batch, z_dim))\n",
    "        loss_gen, grad_gen = train_generator(z)\n",
    "\n",
    "        display.clear_output(wait=True)\n",
    "        avg_real = discriminator.forward_pass(x_real)[0].numpy().mean()\n",
    "        avg_fake = discriminator.forward_pass(x_fake)[0].numpy().mean()\n",
    "        print(\"Epoch: {}, Avg real: {:.4f}, Avg fake: {:.4f}\".format(epoch, avg_real, avg_fake))    \n",
    "\n",
    "        avgs_real.append(avg_real)\n",
    "        avgs_fake.append(avg_fake)\n",
    "\n",
    "        if plotting and epoch % 100 == 0:\n",
    "            plt.clf()\n",
    "            fig,ax = plt.subplots()\n",
    "            ax.plot(samples[:,0], samples[:,1], \"k.\")\n",
    "            z = tf.random.normal((50000, z_dim))\n",
    "            x_test = generator.forward_pass(z)[0]\n",
    "            ax.plot(x_test[:,0], x_test[:,1], \"b.\", alpha=0.1)\n",
    "            plt.axis('equal')\n",
    "            plt.savefig('images/epoch{}'.format(epoch))\n",
    "        \n",
    "    except KeyboardInterrupt:\n",
    "            break"
   ]
  },
  {
   "cell_type": "code",
   "execution_count": null,
   "metadata": {},
   "outputs": [],
   "source": []
  },
  {
   "cell_type": "code",
   "execution_count": null,
   "metadata": {},
   "outputs": [],
   "source": []
  }
 ],
 "metadata": {
  "kernelspec": {
   "display_name": "Python 3",
   "language": "python",
   "name": "python3"
  },
  "language_info": {
   "codemirror_mode": {
    "name": "ipython",
    "version": 3
   },
   "file_extension": ".py",
   "mimetype": "text/x-python",
   "name": "python",
   "nbconvert_exporter": "python",
   "pygments_lexer": "ipython3",
   "version": "3.9.5"
  }
 },
 "nbformat": 4,
 "nbformat_minor": 4
}

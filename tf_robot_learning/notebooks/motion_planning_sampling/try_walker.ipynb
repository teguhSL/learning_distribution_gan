{
 "cells": [
  {
   "cell_type": "code",
   "execution_count": 1,
   "metadata": {},
   "outputs": [],
   "source": [
    "import numpy as np"
   ]
  },
  {
   "cell_type": "code",
   "execution_count": 2,
   "metadata": {},
   "outputs": [],
   "source": [
    "import pybullet as p"
   ]
  },
  {
   "cell_type": "code",
   "execution_count": 3,
   "metadata": {},
   "outputs": [
    {
     "data": {
      "text/plain": [
       "0"
      ]
     },
     "execution_count": 3,
     "metadata": {},
     "output_type": "execute_result"
    }
   ],
   "source": [
    "p.connect(p.GUI)"
   ]
  },
  {
   "cell_type": "code",
   "execution_count": 4,
   "metadata": {},
   "outputs": [],
   "source": [
    "robot_id = p.loadURDF('/home/teguh/Desktop/walker_description/urdf/walker.urdf')"
   ]
  },
  {
   "cell_type": "code",
   "execution_count": 6,
   "metadata": {
    "scrolled": true
   },
   "outputs": [
    {
     "name": "stdout",
     "output_type": "stream",
     "text": [
      "0 b'torso_joint'\n",
      "1 b'right_limb_j1'\n",
      "2 b'right_limb_j2'\n",
      "3 b'right_limb_j3'\n",
      "4 b'right_limb_j4'\n",
      "5 b'right_limb_j5'\n",
      "6 b'right_limb_j6'\n",
      "7 b'right_limb_j7'\n",
      "8 b'right_wrist_ft_sensor_j'\n",
      "9 b'right_palm_joint'\n",
      "10 b'right_tcp_joint'\n",
      "11 b'right_thumb_j1'\n",
      "12 b'right_thumb_j2'\n",
      "13 b'right_index_j1'\n",
      "14 b'right_index_j2'\n",
      "15 b'right_middle_j1'\n",
      "16 b'right_middle_j2'\n",
      "17 b'right_ring_j1'\n",
      "18 b'right_ring_j2'\n",
      "19 b'right_pinky_j1'\n",
      "20 b'right_pinky_j2'\n",
      "21 b'left_limb_j1'\n",
      "22 b'left_limb_j2'\n",
      "23 b'left_limb_j3'\n",
      "24 b'left_limb_j4'\n",
      "25 b'left_limb_j5'\n",
      "26 b'left_limb_j6'\n",
      "27 b'left_limb_j7'\n",
      "28 b'left_wrist_ft_sensor_j'\n",
      "29 b'left_palm_joint'\n",
      "30 b'left_tcp_joint'\n",
      "31 b'left_thumb_j1'\n",
      "32 b'left_thumb_j2'\n",
      "33 b'left_index_j1'\n",
      "34 b'left_index_j2'\n",
      "35 b'left_middle_j1'\n",
      "36 b'left_middle_j2'\n",
      "37 b'left_ring_j1'\n",
      "38 b'left_ring_j2'\n",
      "39 b'left_pinky_j1'\n",
      "40 b'left_pinky_j2'\n",
      "41 b'head_j1'\n",
      "42 b'head_j2'\n",
      "43 b'head_j3'\n",
      "44 b'right_leg_j1'\n",
      "45 b'right_leg_j2'\n",
      "46 b'right_leg_j3'\n",
      "47 b'right_leg_joint1'\n",
      "48 b'right_leg_j4'\n",
      "49 b'right_leg_j5'\n",
      "50 b'right_leg_j6'\n",
      "51 b'right_leg_joint2'\n",
      "52 b'right_sole'\n",
      "53 b'left_leg_j1'\n",
      "54 b'left_leg_j2'\n",
      "55 b'left_leg_j3'\n",
      "56 b'left_leg_joint1'\n",
      "57 b'left_leg_j4'\n",
      "58 b'left_leg_j5'\n",
      "59 b'left_leg_j6'\n",
      "60 b'left_leg_joint2'\n",
      "61 b'left_sole'\n"
     ]
    },
    {
     "ename": "error",
     "evalue": "GetJointInfo failed.",
     "output_type": "error",
     "traceback": [
      "\u001b[0;31m---------------------------------------------------------------------------\u001b[0m",
      "\u001b[0;31merror\u001b[0m                                     Traceback (most recent call last)",
      "\u001b[0;32m<ipython-input-6-1c4168e52035>\u001b[0m in \u001b[0;36m<module>\u001b[0;34m\u001b[0m\n\u001b[1;32m      1\u001b[0m \u001b[0;32mfor\u001b[0m \u001b[0mi\u001b[0m \u001b[0;32min\u001b[0m \u001b[0mrange\u001b[0m\u001b[0;34m(\u001b[0m\u001b[0;36m100\u001b[0m\u001b[0;34m)\u001b[0m\u001b[0;34m:\u001b[0m\u001b[0;34m\u001b[0m\u001b[0;34m\u001b[0m\u001b[0m\n\u001b[0;32m----> 2\u001b[0;31m     \u001b[0mprint\u001b[0m\u001b[0;34m(\u001b[0m\u001b[0mi\u001b[0m\u001b[0;34m,\u001b[0m\u001b[0mp\u001b[0m\u001b[0;34m.\u001b[0m\u001b[0mgetJointInfo\u001b[0m\u001b[0;34m(\u001b[0m\u001b[0mrobot_id\u001b[0m\u001b[0;34m,\u001b[0m \u001b[0mi\u001b[0m\u001b[0;34m)\u001b[0m\u001b[0;34m[\u001b[0m\u001b[0;36m1\u001b[0m\u001b[0;34m]\u001b[0m\u001b[0;34m)\u001b[0m\u001b[0;34m\u001b[0m\u001b[0;34m\u001b[0m\u001b[0m\n\u001b[0m",
      "\u001b[0;31merror\u001b[0m: GetJointInfo failed."
     ]
    }
   ],
   "source": [
    "for i in range(100):\n",
    "    print(i,p.getJointInfo(robot_id, i)[1])"
   ]
  },
  {
   "cell_type": "code",
   "execution_count": null,
   "metadata": {},
   "outputs": [],
   "source": []
  }
 ],
 "metadata": {
  "kernelspec": {
   "display_name": "Python 3",
   "language": "python",
   "name": "python3"
  },
  "language_info": {
   "codemirror_mode": {
    "name": "ipython",
    "version": 3
   },
   "file_extension": ".py",
   "mimetype": "text/x-python",
   "name": "python",
   "nbconvert_exporter": "python",
   "pygments_lexer": "ipython3",
   "version": "3.6.9"
  }
 },
 "nbformat": 4,
 "nbformat_minor": 4
}

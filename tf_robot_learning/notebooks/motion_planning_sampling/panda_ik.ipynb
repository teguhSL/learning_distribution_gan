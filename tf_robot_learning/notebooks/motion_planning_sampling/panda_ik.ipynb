{
 "cells": [
  {
   "cell_type": "markdown",
   "metadata": {},
   "source": [
    "# Panda Example"
   ]
  },
  {
   "cell_type": "code",
   "execution_count": 1,
   "metadata": {
    "scrolled": true
   },
   "outputs": [],
   "source": [
    "import sys\n",
    "sys.path.append('lib')\n",
    "\n",
    "import scipy\n",
    "import matplotlib\n",
    "import matplotlib.pyplot as plt\n",
    "import numpy as np\n",
    "import time, os\n",
    "from IPython.display import clear_output\n",
    "from IPython.core import display\n",
    "\n",
    "import pybullet as p\n",
    "import pybullet_data\n",
    "\n",
    "import pinocchio as pin\n",
    "from utils import *\n",
    "from costs_pseudo import *\n",
    "from functools import partial\n",
    "\n",
    "DATA_PATH = '/home/teguh/git/rli/learning_distribution_gan/tf_robot_learning/data'\n",
    "\n",
    "%load_ext autoreload\n",
    "%autoreload 2\n",
    "\n",
    "np.set_printoptions(precision=4, suppress=True)"
   ]
  },
  {
   "cell_type": "markdown",
   "metadata": {},
   "source": [
    "## Part 2: Projection and Inverse Kinematics"
   ]
  },
  {
   "cell_type": "markdown",
   "metadata": {},
   "source": [
    "### Setup Pybullet"
   ]
  },
  {
   "cell_type": "code",
   "execution_count": 2,
   "metadata": {},
   "outputs": [],
   "source": [
    "physics_client_id = p.connect(p.GUI)\n",
    "p.setPhysicsEngineParameter(enableFileCaching=0)\n",
    "p.setAdditionalSearchPath(pybullet_data.getDataPath())\n",
    "p.configureDebugVisualizer(p.COV_ENABLE_GUI,0)"
   ]
  },
  {
   "cell_type": "code",
   "execution_count": 155,
   "metadata": {},
   "outputs": [],
   "source": [
    "p.resetSimulation()"
   ]
  },
  {
   "cell_type": "markdown",
   "metadata": {},
   "source": [
    "### Setup Robot & environment"
   ]
  },
  {
   "cell_type": "code",
   "execution_count": 156,
   "metadata": {},
   "outputs": [],
   "source": [
    "robot_urdf = DATA_PATH + '/urdf/panda_arm.urdf'\n",
    "robot_id = p.loadURDF(fileName=robot_urdf)\n",
    "dof = p.getNumJoints(robot_id)\n",
    "pb_joint_indices = np.arange(7)\n",
    "joint_limits = get_joint_limits(robot_id,pb_joint_indices)\n",
    "mean_pose = 0.5*(joint_limits[0]+joint_limits[1])\n",
    "\n",
    "plane_id = p.loadURDF('plane.urdf')\n",
    "p.resetBasePositionAndOrientation(plane_id, (0,0,0.), (0,0,0,1))\n",
    "# p.resetBasePositionAndOrientation(plane_id, (0,0,-.5), (0,0,0,1))\n",
    "\n",
    "# table_square_id = p.loadURDF('table_square/table_square.urdf')\n",
    "# p.resetBasePositionAndOrientation(table_square_id, (0.,0,-0.64), (0, 0, 0.7071068, 0.7071068))\n",
    "\n",
    "# table_id = p.loadURDF('table/table.urdf')\n",
    "# p.resetBasePositionAndOrientation(table_id, (.7,0,-0.5), (0, 0, 0.7071068, 0.7071068))\n",
    "\n",
    "# shelf_urdf = DATA_PATH + '/urdf/bookshelf_simple_collision.urdf'\n",
    "# shelf_id = p.loadURDF(fileName=shelf_urdf)\n",
    "# p.resetBasePositionAndOrientation(shelf_id, (-0.6,0.6,-0.5), (0, 0, 0, 1.))\n",
    "\n",
    "#for visualizing the desired target\n",
    "_,_,ball_id = create_primitives(radius=0.05)"
   ]
  },
  {
   "cell_type": "markdown",
   "metadata": {},
   "source": [
    "### Load model in pinocchio"
   ]
  },
  {
   "cell_type": "code",
   "execution_count": 158,
   "metadata": {},
   "outputs": [],
   "source": [
    "robot_urdf = DATA_PATH + '/urdf/panda_arm.urdf';\n",
    "rmodel = pin.buildModelFromUrdf(robot_urdf)\n",
    "rdata = rmodel.createData()\n",
    "\n",
    "pin_frame_names = [f.name for f in rmodel.frames]\n",
    "ee_frame_id = rmodel.getFrameId('panda_hand2')"
   ]
  },
  {
   "cell_type": "markdown",
   "metadata": {},
   "source": [
    "#### Define standard functions"
   ]
  },
  {
   "cell_type": "code",
   "execution_count": 159,
   "metadata": {},
   "outputs": [],
   "source": [
    "computeJacobian_std = partial(computeJacobian, rmodel, rdata, ee_frame_id)\n",
    "computePose_std = partial(computePose, rmodel, rdata, ee_frame_id)\n",
    "set_q_std = partial(set_q,robot_id, pb_joint_indices)"
   ]
  },
  {
   "cell_type": "markdown",
   "metadata": {},
   "source": [
    "***"
   ]
  },
  {
   "cell_type": "markdown",
   "metadata": {},
   "source": [
    "## Using Cost Model for projection"
   ]
  },
  {
   "cell_type": "code",
   "execution_count": 160,
   "metadata": {},
   "outputs": [],
   "source": [
    "rotation_ik = np.eye(3)\n",
    "pose_cost = CostFrameTranslationFloatingBaseNew(rmodel, rdata, np.zeros(3), ee_frame_id, weight=np.array([1.,1.,1.]))\n",
    "ori_cost = CostFrameRotationSE3FloatingBaseNew(rmodel, rdata, rotation_ik, ee_frame_id, weight=np.array([1.,1.,0.]))\n",
    "bound_cost = CostBoundNew(joint_limits, 1e-4)\n",
    "posture_cost = CostPostureNew(rmodel, rdata, mean_pose)"
   ]
  },
  {
   "cell_type": "code",
   "execution_count": 192,
   "metadata": {},
   "outputs": [],
   "source": [
    "#for projection\n",
    "cost_sum = CostSumNew(rmodel, rdata)\n",
    "cost_sum.addCost(ori_cost, 20., 'ori_cost', 1e-4)\n",
    "cost_sum.addCost(bound_cost, 20., 'joint_limit', 1e-3)\n",
    "\n",
    "#for IK with horizontal gripper constraint\n",
    "cost_sum_ik = CostSumNew(rmodel, rdata)\n",
    "cost_sum_ik.addCost(pose_cost,50., 'pose_cost', 1e-3)\n",
    "cost_sum_ik.addCost(ori_cost, 30., 'ori_cost', 1e-3)\n",
    "cost_sum_ik.addCost(bound_cost, 30., 'joint_limit', 1e-3)\n",
    "# cost_sum_ik.addCost(posture_cost, .001 , 'posture', 1e3)\n",
    "\n",
    "robot_projector = TalosCostProjectorNew(cost_sum, rmodel, rdata, bounds = joint_limits)\n",
    "robot_ik_solver = TalosCostProjectorNew(cost_sum_ik, rmodel, rdata, bounds = joint_limits)"
   ]
  },
  {
   "cell_type": "code",
   "execution_count": 193,
   "metadata": {},
   "outputs": [],
   "source": [
    "class sampler():\n",
    "    \"\"\"\n",
    "    General sampler, given the joint limits\n",
    "    \"\"\"\n",
    "\n",
    "    def __init__(self, joint_limits=None):\n",
    "        self.dof = joint_limits.shape[1]\n",
    "        self.joint_limits = joint_limits\n",
    "\n",
    "    def sample(self, N=1):\n",
    "        samples = np.random.rand(N, self.dof)\n",
    "        samples = self.joint_limits[0] + samples * (self.joint_limits[1] - self.joint_limits[0])\n",
    "        return samples"
   ]
  },
  {
   "cell_type": "code",
   "execution_count": 194,
   "metadata": {},
   "outputs": [],
   "source": [
    "workspace_area = np.array([[-0.6, -0.6 , -0.1], [0.6, 0.6, 1.0]])\n",
    "target_sampler = sampler(workspace_area)\n",
    "rob_simple_sampler = sampler(joint_limits)"
   ]
  },
  {
   "cell_type": "markdown",
   "metadata": {},
   "source": [
    "#### Try the projection operator"
   ]
  },
  {
   "cell_type": "code",
   "execution_count": 195,
   "metadata": {},
   "outputs": [
    {
     "name": "stdout",
     "output_type": "stream",
     "text": [
      "4.6077234534738006e-09\n"
     ]
    }
   ],
   "source": [
    "q = rob_simple_sampler.sample().flatten()\n",
    "res = robot_projector.project(q)\n",
    "q, success, func_calls = res['q'], res['stat'], res['nfev']\n",
    "set_q_std(q)\n",
    "\n",
    "print(robot_projector.cost.calc_cost(q))"
   ]
  },
  {
   "cell_type": "markdown",
   "metadata": {},
   "source": [
    "#### Compare IK"
   ]
  },
  {
   "cell_type": "code",
   "execution_count": 196,
   "metadata": {},
   "outputs": [],
   "source": [
    "ik_workspace_area = np.array([[0.4, -0.5 , 0.5], [0.7, 0.5, .8]])\n",
    "ik_target_sampler = sampler(ik_workspace_area)\n",
    "goal_poses = ik_target_sampler.sample(1000)\n",
    "for i in range(len(goal_poses)):\n",
    "    goal_poses[i] = clip_bounds(goal_poses[i], ik_workspace_area)"
   ]
  },
  {
   "cell_type": "markdown",
   "metadata": {},
   "source": [
    "#### Try IK"
   ]
  },
  {
   "cell_type": "code",
   "execution_count": 248,
   "metadata": {},
   "outputs": [
    {
     "name": "stdout",
     "output_type": "stream",
     "text": [
      "331.95701434602574\n",
      "False 100\n",
      "14.193044287616594\n"
     ]
    }
   ],
   "source": [
    "idx = np.random.randint(1000)\n",
    "goal_pos = goal_poses[idx]\n",
    "    \n",
    "p.resetBasePositionAndOrientation(ball_id, goal_pos, np.array([0,0,0,1]))\n",
    "\n",
    "robot_ik_solver.cost.costs['pose_cost'].cost.desired_pose = goal_pos\n",
    "q = rob_simple_sampler.sample().flatten()\n",
    "set_q_std(q)\n",
    "print(robot_ik_solver.cost.calc_cost(q))\n",
    "res = robot_ik_solver.project(q, maxiter = 100)\n",
    "print(res['stat'], res['nfev'])\n",
    "set_q_std(res['q'])\n",
    "\n",
    "print(robot_ik_solver.cost.calc_cost(q))"
   ]
  }
 ],
 "metadata": {
  "kernelspec": {
   "display_name": "Python 3",
   "language": "python",
   "name": "python3"
  },
  "language_info": {
   "codemirror_mode": {
    "name": "ipython",
    "version": 3
   },
   "file_extension": ".py",
   "mimetype": "text/x-python",
   "name": "python",
   "nbconvert_exporter": "python",
   "pygments_lexer": "ipython3",
   "version": "3.6.9"
  }
 },
 "nbformat": 4,
 "nbformat_minor": 4
}
